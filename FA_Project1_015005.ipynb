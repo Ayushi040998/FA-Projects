{
  "nbformat": 4,
  "nbformat_minor": 0,
  "metadata": {
    "colab": {
      "name": "FA_Project1.ipynb",
      "provenance": [],
      "collapsed_sections": []
    },
    "kernelspec": {
      "name": "python3",
      "display_name": "Python 3"
    },
    "language_info": {
      "name": "python"
    }
  },
  "cells": [
    {
      "cell_type": "markdown",
      "source": [
        "## Name: Ayushi Gupta\n",
        "# Roll no:015005"
      ],
      "metadata": {
        "id": "-Mn0om9ElQEz"
      }
    },
    {
      "cell_type": "markdown",
      "source": [
        "Kaggle data source link: https://www.kaggle.com/nicapotato/womens-ecommerce-clothing-reviews"
      ],
      "metadata": {
        "id": "N2ryD2gRlaQL"
      }
    },
    {
      "cell_type": "markdown",
      "source": [
        "# About the data\n",
        "Welcome. This is a Women’s Clothing E-Commerce dataset revolving around the reviews written by customers. Its nine supportive features offer a great environment to parse out the text through its multiple dimensions. Because this is real commercial data, it has been anonymized, and references to the company in the review text and body have been replaced with “retailer”.\n",
        "\n",
        "# Content\n",
        "This dataset includes 23486 rows and 10 feature variables. Each row corresponds to a customer review, and includes the variables:\n",
        "\n",
        "Clothing ID: Integer Categorical variable that refers to the specific piece being reviewed.\n",
        "Age: Positive Integer variable of the reviewers age.\n",
        "Title: String variable for the title of the review.\n",
        "Review Text: String variable for the review body.\n",
        "Rating: Positive Ordinal Integer variable for the product score granted by the customer from 1 Worst, to 5 Best.\n",
        "Recommended IND: Binary variable stating where the customer recommends the product where 1 is recommended, 0 is not recommended.\n",
        "Positive Feedback Count: Positive Integer documenting the number of other customers who found this review positive.\n",
        "Division Name: Categorical name of the product high level division.\n",
        "Department Name: Categorical name of the product department name.\n",
        "Class Name: Categorical name of the product class name."
      ],
      "metadata": {
        "id": "nCJoB9vXlqFR"
      }
    },
    {
      "cell_type": "markdown",
      "source": [
        "#Calling Libraries"
      ],
      "metadata": {
        "id": "YqHfMsnt26pG"
      }
    },
    {
      "cell_type": "code",
      "source": [
        "# Call libraries\n",
        "# Data manipulation libraries\n",
        "import numpy as np\n",
        "import pandas as pd\n",
        "\n",
        "# sklearn libraries\n",
        "from sklearn.preprocessing import LabelEncoder, MinMaxScaler, StandardScaler\n",
        "from sklearn.model_selection import train_test_split\n",
        "\n",
        "# For plotting NN model\n",
        "from skimage import io\n",
        "import pydot\n",
        "\n",
        "# Keras model components\n",
        "from tensorflow.keras.models import Model\n",
        "from tensorflow.keras.layers import Input, Dropout, Dense, concatenate, GRU, Embedding, Flatten\n",
        "from tensorflow.keras.layers import Conv1D, Reshape\n",
        "from tensorflow.keras.callbacks import ModelCheckpoint, Callback, EarlyStopping\n",
        "\n",
        "# For text (word) to integer transformation\n",
        "from tensorflow.keras.preprocessing.text import Tokenizer\n",
        "\n",
        "# For making all integer sequences of equal length\n",
        "from tensorflow.keras.preprocessing.sequence import pad_sequences\n",
        "\n",
        "# Import backend to invoke tensorflow commands to manipulate tensors\n",
        "from tensorflow.keras import backend as K\n",
        "\n",
        "# Plotting libraries\n",
        "from tensorflow.keras.utils import plot_model\n",
        "import matplotlib.pyplot as plt\n",
        "%matplotlib inline \n",
        "\n",
        "# Misc\n",
        "import math, time, os,gc"
      ],
      "metadata": {
        "id": "wyAbcaUZ28Ky"
      },
      "execution_count": 3,
      "outputs": []
    },
    {
      "cell_type": "code",
      "source": [
        "# Print all outputs from a cell\n",
        "\n",
        "from IPython.core.interactiveshell import InteractiveShell\n",
        "InteractiveShell.ast_node_interactivity = \"all\""
      ],
      "metadata": {
        "id": "ywKQBI-J3OgG"
      },
      "execution_count": 4,
      "outputs": []
    },
    {
      "cell_type": "markdown",
      "source": [
        "Mount G-drive"
      ],
      "metadata": {
        "id": "Ez0JH9Mp3cxj"
      }
    },
    {
      "cell_type": "code",
      "source": [
        "from google.colab import drive\n",
        "drive.mount('/gdrive') "
      ],
      "metadata": {
        "colab": {
          "base_uri": "https://localhost:8080/"
        },
        "id": "Rz9B7IHo3Un1",
        "outputId": "4e60dcef-9b49-4df0-94ae-fd8ae2954e0a"
      },
      "execution_count": 5,
      "outputs": [
        {
          "output_type": "stream",
          "name": "stdout",
          "text": [
            "Mounted at /gdrive\n"
          ]
        }
      ]
    },
    {
      "cell_type": "code",
      "source": [
        "# Set path to our data\n",
        "path = \"/gdrive/MyDrive/FA-Term 5/\""
      ],
      "metadata": {
        "id": "AeXUnajd3fh2"
      },
      "execution_count": 6,
      "outputs": []
    },
    {
      "cell_type": "markdown",
      "source": [
        "Read Data"
      ],
      "metadata": {
        "id": "mERivhyc37Ob"
      }
    },
    {
      "cell_type": "code",
      "source": [
        "df = pd.read_csv(path+\"Womens Clothing E-Commerce Reviews.csv\",index_col=0)\n"
      ],
      "metadata": {
        "id": "ValY1vMH3thE"
      },
      "execution_count": 7,
      "outputs": []
    },
    {
      "cell_type": "code",
      "source": [
        "df.head()"
      ],
      "metadata": {
        "colab": {
          "base_uri": "https://localhost:8080/",
          "height": 302
        },
        "id": "zgSwOi4U4PNB",
        "outputId": "56b0e77b-0765-4987-9695-b9d0f2c6c408"
      },
      "execution_count": 8,
      "outputs": [
        {
          "output_type": "execute_result",
          "data": {
            "text/html": [
              "\n",
              "  <div id=\"df-2286bd2e-0567-488d-9ced-26f14c2567f2\">\n",
              "    <div class=\"colab-df-container\">\n",
              "      <div>\n",
              "<style scoped>\n",
              "    .dataframe tbody tr th:only-of-type {\n",
              "        vertical-align: middle;\n",
              "    }\n",
              "\n",
              "    .dataframe tbody tr th {\n",
              "        vertical-align: top;\n",
              "    }\n",
              "\n",
              "    .dataframe thead th {\n",
              "        text-align: right;\n",
              "    }\n",
              "</style>\n",
              "<table border=\"1\" class=\"dataframe\">\n",
              "  <thead>\n",
              "    <tr style=\"text-align: right;\">\n",
              "      <th></th>\n",
              "      <th>Clothing ID</th>\n",
              "      <th>Age</th>\n",
              "      <th>Title</th>\n",
              "      <th>Review Text</th>\n",
              "      <th>Rating</th>\n",
              "      <th>Recommended IND</th>\n",
              "      <th>Positive Feedback Count</th>\n",
              "      <th>Division Name</th>\n",
              "      <th>Department Name</th>\n",
              "      <th>Class Name</th>\n",
              "    </tr>\n",
              "  </thead>\n",
              "  <tbody>\n",
              "    <tr>\n",
              "      <th>0</th>\n",
              "      <td>767</td>\n",
              "      <td>33</td>\n",
              "      <td>NaN</td>\n",
              "      <td>Absolutely wonderful - silky and sexy and comf...</td>\n",
              "      <td>4</td>\n",
              "      <td>1</td>\n",
              "      <td>0</td>\n",
              "      <td>Initmates</td>\n",
              "      <td>Intimate</td>\n",
              "      <td>Intimates</td>\n",
              "    </tr>\n",
              "    <tr>\n",
              "      <th>1</th>\n",
              "      <td>1080</td>\n",
              "      <td>34</td>\n",
              "      <td>NaN</td>\n",
              "      <td>Love this dress!  it's sooo pretty.  i happene...</td>\n",
              "      <td>5</td>\n",
              "      <td>1</td>\n",
              "      <td>4</td>\n",
              "      <td>General</td>\n",
              "      <td>Dresses</td>\n",
              "      <td>Dresses</td>\n",
              "    </tr>\n",
              "    <tr>\n",
              "      <th>2</th>\n",
              "      <td>1077</td>\n",
              "      <td>60</td>\n",
              "      <td>Some major design flaws</td>\n",
              "      <td>I had such high hopes for this dress and reall...</td>\n",
              "      <td>3</td>\n",
              "      <td>0</td>\n",
              "      <td>0</td>\n",
              "      <td>General</td>\n",
              "      <td>Dresses</td>\n",
              "      <td>Dresses</td>\n",
              "    </tr>\n",
              "    <tr>\n",
              "      <th>3</th>\n",
              "      <td>1049</td>\n",
              "      <td>50</td>\n",
              "      <td>My favorite buy!</td>\n",
              "      <td>I love, love, love this jumpsuit. it's fun, fl...</td>\n",
              "      <td>5</td>\n",
              "      <td>1</td>\n",
              "      <td>0</td>\n",
              "      <td>General Petite</td>\n",
              "      <td>Bottoms</td>\n",
              "      <td>Pants</td>\n",
              "    </tr>\n",
              "    <tr>\n",
              "      <th>4</th>\n",
              "      <td>847</td>\n",
              "      <td>47</td>\n",
              "      <td>Flattering shirt</td>\n",
              "      <td>This shirt is very flattering to all due to th...</td>\n",
              "      <td>5</td>\n",
              "      <td>1</td>\n",
              "      <td>6</td>\n",
              "      <td>General</td>\n",
              "      <td>Tops</td>\n",
              "      <td>Blouses</td>\n",
              "    </tr>\n",
              "  </tbody>\n",
              "</table>\n",
              "</div>\n",
              "      <button class=\"colab-df-convert\" onclick=\"convertToInteractive('df-2286bd2e-0567-488d-9ced-26f14c2567f2')\"\n",
              "              title=\"Convert this dataframe to an interactive table.\"\n",
              "              style=\"display:none;\">\n",
              "        \n",
              "  <svg xmlns=\"http://www.w3.org/2000/svg\" height=\"24px\"viewBox=\"0 0 24 24\"\n",
              "       width=\"24px\">\n",
              "    <path d=\"M0 0h24v24H0V0z\" fill=\"none\"/>\n",
              "    <path d=\"M18.56 5.44l.94 2.06.94-2.06 2.06-.94-2.06-.94-.94-2.06-.94 2.06-2.06.94zm-11 1L8.5 8.5l.94-2.06 2.06-.94-2.06-.94L8.5 2.5l-.94 2.06-2.06.94zm10 10l.94 2.06.94-2.06 2.06-.94-2.06-.94-.94-2.06-.94 2.06-2.06.94z\"/><path d=\"M17.41 7.96l-1.37-1.37c-.4-.4-.92-.59-1.43-.59-.52 0-1.04.2-1.43.59L10.3 9.45l-7.72 7.72c-.78.78-.78 2.05 0 2.83L4 21.41c.39.39.9.59 1.41.59.51 0 1.02-.2 1.41-.59l7.78-7.78 2.81-2.81c.8-.78.8-2.07 0-2.86zM5.41 20L4 18.59l7.72-7.72 1.47 1.35L5.41 20z\"/>\n",
              "  </svg>\n",
              "      </button>\n",
              "      \n",
              "  <style>\n",
              "    .colab-df-container {\n",
              "      display:flex;\n",
              "      flex-wrap:wrap;\n",
              "      gap: 12px;\n",
              "    }\n",
              "\n",
              "    .colab-df-convert {\n",
              "      background-color: #E8F0FE;\n",
              "      border: none;\n",
              "      border-radius: 50%;\n",
              "      cursor: pointer;\n",
              "      display: none;\n",
              "      fill: #1967D2;\n",
              "      height: 32px;\n",
              "      padding: 0 0 0 0;\n",
              "      width: 32px;\n",
              "    }\n",
              "\n",
              "    .colab-df-convert:hover {\n",
              "      background-color: #E2EBFA;\n",
              "      box-shadow: 0px 1px 2px rgba(60, 64, 67, 0.3), 0px 1px 3px 1px rgba(60, 64, 67, 0.15);\n",
              "      fill: #174EA6;\n",
              "    }\n",
              "\n",
              "    [theme=dark] .colab-df-convert {\n",
              "      background-color: #3B4455;\n",
              "      fill: #D2E3FC;\n",
              "    }\n",
              "\n",
              "    [theme=dark] .colab-df-convert:hover {\n",
              "      background-color: #434B5C;\n",
              "      box-shadow: 0px 1px 3px 1px rgba(0, 0, 0, 0.15);\n",
              "      filter: drop-shadow(0px 1px 2px rgba(0, 0, 0, 0.3));\n",
              "      fill: #FFFFFF;\n",
              "    }\n",
              "  </style>\n",
              "\n",
              "      <script>\n",
              "        const buttonEl =\n",
              "          document.querySelector('#df-2286bd2e-0567-488d-9ced-26f14c2567f2 button.colab-df-convert');\n",
              "        buttonEl.style.display =\n",
              "          google.colab.kernel.accessAllowed ? 'block' : 'none';\n",
              "\n",
              "        async function convertToInteractive(key) {\n",
              "          const element = document.querySelector('#df-2286bd2e-0567-488d-9ced-26f14c2567f2');\n",
              "          const dataTable =\n",
              "            await google.colab.kernel.invokeFunction('convertToInteractive',\n",
              "                                                     [key], {});\n",
              "          if (!dataTable) return;\n",
              "\n",
              "          const docLinkHtml = 'Like what you see? Visit the ' +\n",
              "            '<a target=\"_blank\" href=https://colab.research.google.com/notebooks/data_table.ipynb>data table notebook</a>'\n",
              "            + ' to learn more about interactive tables.';\n",
              "          element.innerHTML = '';\n",
              "          dataTable['output_type'] = 'display_data';\n",
              "          await google.colab.output.renderOutput(dataTable, element);\n",
              "          const docLink = document.createElement('div');\n",
              "          docLink.innerHTML = docLinkHtml;\n",
              "          element.appendChild(docLink);\n",
              "        }\n",
              "      </script>\n",
              "    </div>\n",
              "  </div>\n",
              "  "
            ],
            "text/plain": [
              "   Clothing ID  Age  ... Department Name Class Name\n",
              "0          767   33  ...        Intimate  Intimates\n",
              "1         1080   34  ...         Dresses    Dresses\n",
              "2         1077   60  ...         Dresses    Dresses\n",
              "3         1049   50  ...         Bottoms      Pants\n",
              "4          847   47  ...            Tops    Blouses\n",
              "\n",
              "[5 rows x 10 columns]"
            ]
          },
          "metadata": {},
          "execution_count": 8
        }
      ]
    },
    {
      "cell_type": "code",
      "source": [
        "# Print some information about dataset\n",
        "\n",
        "print(\"---\")\n",
        "print(f\"Shape of e-commerce dataset: {df.shape}\")\n",
        "print(\"---\\n\")\n",
        "\n",
        "print(f\"Memory Usage : {sum(df.memory_usage())/10**6} MB\")   # In MB\n",
        "print(\"-----\\n\")"
      ],
      "metadata": {
        "colab": {
          "base_uri": "https://localhost:8080/"
        },
        "id": "d4gjEG4K4TCq",
        "outputId": "cfaf1e23-1640-4022-a605-2b46866a185f"
      },
      "execution_count": 9,
      "outputs": [
        {
          "output_type": "stream",
          "name": "stdout",
          "text": [
            "---\n",
            "Shape of e-commerce dataset: (23486, 10)\n",
            "---\n",
            "\n",
            "Memory Usage : 2.066768 MB\n",
            "-----\n",
            "\n"
          ]
        }
      ]
    },
    {
      "cell_type": "code",
      "source": [
        "df.describe()"
      ],
      "metadata": {
        "colab": {
          "base_uri": "https://localhost:8080/",
          "height": 300
        },
        "id": "PBxggSuuSxB0",
        "outputId": "63cf1249-88c3-49fd-d275-001fbae682ef"
      },
      "execution_count": 10,
      "outputs": [
        {
          "output_type": "execute_result",
          "data": {
            "text/html": [
              "\n",
              "  <div id=\"df-615447dc-22f4-4b84-b854-ea7517ee6467\">\n",
              "    <div class=\"colab-df-container\">\n",
              "      <div>\n",
              "<style scoped>\n",
              "    .dataframe tbody tr th:only-of-type {\n",
              "        vertical-align: middle;\n",
              "    }\n",
              "\n",
              "    .dataframe tbody tr th {\n",
              "        vertical-align: top;\n",
              "    }\n",
              "\n",
              "    .dataframe thead th {\n",
              "        text-align: right;\n",
              "    }\n",
              "</style>\n",
              "<table border=\"1\" class=\"dataframe\">\n",
              "  <thead>\n",
              "    <tr style=\"text-align: right;\">\n",
              "      <th></th>\n",
              "      <th>Clothing ID</th>\n",
              "      <th>Age</th>\n",
              "      <th>Rating</th>\n",
              "      <th>Recommended IND</th>\n",
              "      <th>Positive Feedback Count</th>\n",
              "    </tr>\n",
              "  </thead>\n",
              "  <tbody>\n",
              "    <tr>\n",
              "      <th>count</th>\n",
              "      <td>23486.000000</td>\n",
              "      <td>23486.000000</td>\n",
              "      <td>23486.000000</td>\n",
              "      <td>23486.000000</td>\n",
              "      <td>23486.000000</td>\n",
              "    </tr>\n",
              "    <tr>\n",
              "      <th>mean</th>\n",
              "      <td>918.118709</td>\n",
              "      <td>43.198544</td>\n",
              "      <td>4.196032</td>\n",
              "      <td>0.822362</td>\n",
              "      <td>2.535936</td>\n",
              "    </tr>\n",
              "    <tr>\n",
              "      <th>std</th>\n",
              "      <td>203.298980</td>\n",
              "      <td>12.279544</td>\n",
              "      <td>1.110031</td>\n",
              "      <td>0.382216</td>\n",
              "      <td>5.702202</td>\n",
              "    </tr>\n",
              "    <tr>\n",
              "      <th>min</th>\n",
              "      <td>0.000000</td>\n",
              "      <td>18.000000</td>\n",
              "      <td>1.000000</td>\n",
              "      <td>0.000000</td>\n",
              "      <td>0.000000</td>\n",
              "    </tr>\n",
              "    <tr>\n",
              "      <th>25%</th>\n",
              "      <td>861.000000</td>\n",
              "      <td>34.000000</td>\n",
              "      <td>4.000000</td>\n",
              "      <td>1.000000</td>\n",
              "      <td>0.000000</td>\n",
              "    </tr>\n",
              "    <tr>\n",
              "      <th>50%</th>\n",
              "      <td>936.000000</td>\n",
              "      <td>41.000000</td>\n",
              "      <td>5.000000</td>\n",
              "      <td>1.000000</td>\n",
              "      <td>1.000000</td>\n",
              "    </tr>\n",
              "    <tr>\n",
              "      <th>75%</th>\n",
              "      <td>1078.000000</td>\n",
              "      <td>52.000000</td>\n",
              "      <td>5.000000</td>\n",
              "      <td>1.000000</td>\n",
              "      <td>3.000000</td>\n",
              "    </tr>\n",
              "    <tr>\n",
              "      <th>max</th>\n",
              "      <td>1205.000000</td>\n",
              "      <td>99.000000</td>\n",
              "      <td>5.000000</td>\n",
              "      <td>1.000000</td>\n",
              "      <td>122.000000</td>\n",
              "    </tr>\n",
              "  </tbody>\n",
              "</table>\n",
              "</div>\n",
              "      <button class=\"colab-df-convert\" onclick=\"convertToInteractive('df-615447dc-22f4-4b84-b854-ea7517ee6467')\"\n",
              "              title=\"Convert this dataframe to an interactive table.\"\n",
              "              style=\"display:none;\">\n",
              "        \n",
              "  <svg xmlns=\"http://www.w3.org/2000/svg\" height=\"24px\"viewBox=\"0 0 24 24\"\n",
              "       width=\"24px\">\n",
              "    <path d=\"M0 0h24v24H0V0z\" fill=\"none\"/>\n",
              "    <path d=\"M18.56 5.44l.94 2.06.94-2.06 2.06-.94-2.06-.94-.94-2.06-.94 2.06-2.06.94zm-11 1L8.5 8.5l.94-2.06 2.06-.94-2.06-.94L8.5 2.5l-.94 2.06-2.06.94zm10 10l.94 2.06.94-2.06 2.06-.94-2.06-.94-.94-2.06-.94 2.06-2.06.94z\"/><path d=\"M17.41 7.96l-1.37-1.37c-.4-.4-.92-.59-1.43-.59-.52 0-1.04.2-1.43.59L10.3 9.45l-7.72 7.72c-.78.78-.78 2.05 0 2.83L4 21.41c.39.39.9.59 1.41.59.51 0 1.02-.2 1.41-.59l7.78-7.78 2.81-2.81c.8-.78.8-2.07 0-2.86zM5.41 20L4 18.59l7.72-7.72 1.47 1.35L5.41 20z\"/>\n",
              "  </svg>\n",
              "      </button>\n",
              "      \n",
              "  <style>\n",
              "    .colab-df-container {\n",
              "      display:flex;\n",
              "      flex-wrap:wrap;\n",
              "      gap: 12px;\n",
              "    }\n",
              "\n",
              "    .colab-df-convert {\n",
              "      background-color: #E8F0FE;\n",
              "      border: none;\n",
              "      border-radius: 50%;\n",
              "      cursor: pointer;\n",
              "      display: none;\n",
              "      fill: #1967D2;\n",
              "      height: 32px;\n",
              "      padding: 0 0 0 0;\n",
              "      width: 32px;\n",
              "    }\n",
              "\n",
              "    .colab-df-convert:hover {\n",
              "      background-color: #E2EBFA;\n",
              "      box-shadow: 0px 1px 2px rgba(60, 64, 67, 0.3), 0px 1px 3px 1px rgba(60, 64, 67, 0.15);\n",
              "      fill: #174EA6;\n",
              "    }\n",
              "\n",
              "    [theme=dark] .colab-df-convert {\n",
              "      background-color: #3B4455;\n",
              "      fill: #D2E3FC;\n",
              "    }\n",
              "\n",
              "    [theme=dark] .colab-df-convert:hover {\n",
              "      background-color: #434B5C;\n",
              "      box-shadow: 0px 1px 3px 1px rgba(0, 0, 0, 0.15);\n",
              "      filter: drop-shadow(0px 1px 2px rgba(0, 0, 0, 0.3));\n",
              "      fill: #FFFFFF;\n",
              "    }\n",
              "  </style>\n",
              "\n",
              "      <script>\n",
              "        const buttonEl =\n",
              "          document.querySelector('#df-615447dc-22f4-4b84-b854-ea7517ee6467 button.colab-df-convert');\n",
              "        buttonEl.style.display =\n",
              "          google.colab.kernel.accessAllowed ? 'block' : 'none';\n",
              "\n",
              "        async function convertToInteractive(key) {\n",
              "          const element = document.querySelector('#df-615447dc-22f4-4b84-b854-ea7517ee6467');\n",
              "          const dataTable =\n",
              "            await google.colab.kernel.invokeFunction('convertToInteractive',\n",
              "                                                     [key], {});\n",
              "          if (!dataTable) return;\n",
              "\n",
              "          const docLinkHtml = 'Like what you see? Visit the ' +\n",
              "            '<a target=\"_blank\" href=https://colab.research.google.com/notebooks/data_table.ipynb>data table notebook</a>'\n",
              "            + ' to learn more about interactive tables.';\n",
              "          element.innerHTML = '';\n",
              "          dataTable['output_type'] = 'display_data';\n",
              "          await google.colab.output.renderOutput(dataTable, element);\n",
              "          const docLink = document.createElement('div');\n",
              "          docLink.innerHTML = docLinkHtml;\n",
              "          element.appendChild(docLink);\n",
              "        }\n",
              "      </script>\n",
              "    </div>\n",
              "  </div>\n",
              "  "
            ],
            "text/plain": [
              "        Clothing ID           Age  ...  Recommended IND  Positive Feedback Count\n",
              "count  23486.000000  23486.000000  ...     23486.000000             23486.000000\n",
              "mean     918.118709     43.198544  ...         0.822362                 2.535936\n",
              "std      203.298980     12.279544  ...         0.382216                 5.702202\n",
              "min        0.000000     18.000000  ...         0.000000                 0.000000\n",
              "25%      861.000000     34.000000  ...         1.000000                 0.000000\n",
              "50%      936.000000     41.000000  ...         1.000000                 1.000000\n",
              "75%     1078.000000     52.000000  ...         1.000000                 3.000000\n",
              "max     1205.000000     99.000000  ...         1.000000               122.000000\n",
              "\n",
              "[8 rows x 5 columns]"
            ]
          },
          "metadata": {},
          "execution_count": 10
        }
      ]
    },
    {
      "cell_type": "code",
      "source": [
        "\n",
        "print(f\"Null columns in dataset:\\n\\n{df.isnull().sum().sort_values()}\")"
      ],
      "metadata": {
        "colab": {
          "base_uri": "https://localhost:8080/"
        },
        "id": "fZEwRMPc9KE5",
        "outputId": "be0d8e62-6162-4d45-e7d6-59ed0229f6fc"
      },
      "execution_count": 11,
      "outputs": [
        {
          "output_type": "stream",
          "name": "stdout",
          "text": [
            "Null columns in dataset:\n",
            "\n",
            "Clothing ID                   0\n",
            "Age                           0\n",
            "Rating                        0\n",
            "Recommended IND               0\n",
            "Positive Feedback Count       0\n",
            "Division Name                14\n",
            "Department Name              14\n",
            "Class Name                   14\n",
            "Review Text                 845\n",
            "Title                      3810\n",
            "dtype: int64\n"
          ]
        }
      ]
    },
    {
      "cell_type": "code",
      "source": [
        "df.dtypes\n",
        "print(\"\\n\")\n",
        "df.columns.values"
      ],
      "metadata": {
        "colab": {
          "base_uri": "https://localhost:8080/"
        },
        "id": "HyhDpDXV9Ra7",
        "outputId": "d92876be-182e-4933-f54b-b4e6d8dfd10e"
      },
      "execution_count": 12,
      "outputs": [
        {
          "output_type": "execute_result",
          "data": {
            "text/plain": [
              "Clothing ID                 int64\n",
              "Age                         int64\n",
              "Title                      object\n",
              "Review Text                object\n",
              "Rating                      int64\n",
              "Recommended IND             int64\n",
              "Positive Feedback Count     int64\n",
              "Division Name              object\n",
              "Department Name            object\n",
              "Class Name                 object\n",
              "dtype: object"
            ]
          },
          "metadata": {},
          "execution_count": 12
        },
        {
          "output_type": "stream",
          "name": "stdout",
          "text": [
            "\n",
            "\n"
          ]
        },
        {
          "output_type": "execute_result",
          "data": {
            "text/plain": [
              "array(['Clothing ID', 'Age', 'Title', 'Review Text', 'Rating',\n",
              "       'Recommended IND', 'Positive Feedback Count', 'Division Name',\n",
              "       'Department Name', 'Class Name'], dtype=object)"
            ]
          },
          "metadata": {},
          "execution_count": 12
        }
      ]
    },
    {
      "cell_type": "code",
      "source": [
        "df.rename(columns={'Clothing ID': 'Clothing_ID','Review Text': 'Review_Text', 'Recommended IND': 'Recommended_IND' , 'Positive Feedback Count': 'Positive_Feedback_Count' , 'Division Name': 'Division_Name' , 'Department Name': 'Department_Name', 'Class Name': 'Class_Name'}, inplace=True)"
      ],
      "metadata": {
        "id": "VSHFU1WRAKaZ"
      },
      "execution_count": 13,
      "outputs": []
    },
    {
      "cell_type": "code",
      "source": [
        "df.columns.values"
      ],
      "metadata": {
        "colab": {
          "base_uri": "https://localhost:8080/"
        },
        "id": "d_qiZM9FAx9S",
        "outputId": "98110ed9-dcbb-4154-99b6-4ab3f3014670"
      },
      "execution_count": 14,
      "outputs": [
        {
          "output_type": "execute_result",
          "data": {
            "text/plain": [
              "array(['Clothing_ID', 'Age', 'Title', 'Review_Text', 'Rating',\n",
              "       'Recommended_IND', 'Positive_Feedback_Count', 'Division_Name',\n",
              "       'Department_Name', 'Class_Name'], dtype=object)"
            ]
          },
          "metadata": {},
          "execution_count": 14
        }
      ]
    },
    {
      "cell_type": "markdown",
      "source": [
        "#Data Pre-Processing"
      ],
      "metadata": {
        "id": "VRbk6m8I94OB"
      }
    },
    {
      "cell_type": "markdown",
      "source": [
        "Missing Values"
      ],
      "metadata": {
        "id": "iLvf3Vrq-IqC"
      }
    },
    {
      "cell_type": "code",
      "source": [
        "# Fill missing values\n",
        "# Define a function to fill missing values . We use pandas methods df.fillna()\n",
        "# Fields: Division Name , Department Name, Class Name, Review Text, Title\n",
        "\n",
        "def fill_missing(dataset):\n",
        "    dataset.Division_Name.fillna(value=\"Missing\", inplace=True)\n",
        "    dataset.Department_Name.fillna(value=\"Missing\", inplace=True)\n",
        "    dataset.Class_Name.fillna(value=\"Missing\", inplace=True)\n",
        "    dataset.Review_Text.fillna(value=\"Missing\", inplace=True)\n",
        "    dataset.Title.fillna(value=\"Missing\", inplace=True)\n",
        "    return (dataset)"
      ],
      "metadata": {
        "id": "kjdpWJ_O9krD"
      },
      "execution_count": 15,
      "outputs": []
    },
    {
      "cell_type": "code",
      "source": [
        "# Fill missing values now in train and test\n",
        "df = fill_missing(df)"
      ],
      "metadata": {
        "id": "v-CtrOxWBZuH"
      },
      "execution_count": 16,
      "outputs": []
    },
    {
      "cell_type": "code",
      "source": [
        "# Check if any value is still missing\n",
        "df.isnull().sum()"
      ],
      "metadata": {
        "colab": {
          "base_uri": "https://localhost:8080/"
        },
        "id": "zlx2tRjtB5Dk",
        "outputId": "e0b8af69-0850-4a51-e049-c96b73841426"
      },
      "execution_count": 17,
      "outputs": [
        {
          "output_type": "execute_result",
          "data": {
            "text/plain": [
              "Clothing_ID                0\n",
              "Age                        0\n",
              "Title                      0\n",
              "Review_Text                0\n",
              "Rating                     0\n",
              "Recommended_IND            0\n",
              "Positive_Feedback_Count    0\n",
              "Division_Name              0\n",
              "Department_Name            0\n",
              "Class_Name                 0\n",
              "dtype: int64"
            ]
          },
          "metadata": {},
          "execution_count": 17
        }
      ]
    },
    {
      "cell_type": "code",
      "source": [
        "df.head(3)"
      ],
      "metadata": {
        "colab": {
          "base_uri": "https://localhost:8080/",
          "height": 239
        },
        "id": "KJHmm6JbF1Mr",
        "outputId": "80251429-891c-4ece-f181-c4f60c6a6e71"
      },
      "execution_count": 18,
      "outputs": [
        {
          "output_type": "execute_result",
          "data": {
            "text/html": [
              "\n",
              "  <div id=\"df-a4022eee-180a-4fc1-bc70-1f1189980b05\">\n",
              "    <div class=\"colab-df-container\">\n",
              "      <div>\n",
              "<style scoped>\n",
              "    .dataframe tbody tr th:only-of-type {\n",
              "        vertical-align: middle;\n",
              "    }\n",
              "\n",
              "    .dataframe tbody tr th {\n",
              "        vertical-align: top;\n",
              "    }\n",
              "\n",
              "    .dataframe thead th {\n",
              "        text-align: right;\n",
              "    }\n",
              "</style>\n",
              "<table border=\"1\" class=\"dataframe\">\n",
              "  <thead>\n",
              "    <tr style=\"text-align: right;\">\n",
              "      <th></th>\n",
              "      <th>Clothing_ID</th>\n",
              "      <th>Age</th>\n",
              "      <th>Title</th>\n",
              "      <th>Review_Text</th>\n",
              "      <th>Rating</th>\n",
              "      <th>Recommended_IND</th>\n",
              "      <th>Positive_Feedback_Count</th>\n",
              "      <th>Division_Name</th>\n",
              "      <th>Department_Name</th>\n",
              "      <th>Class_Name</th>\n",
              "    </tr>\n",
              "  </thead>\n",
              "  <tbody>\n",
              "    <tr>\n",
              "      <th>0</th>\n",
              "      <td>767</td>\n",
              "      <td>33</td>\n",
              "      <td>Missing</td>\n",
              "      <td>Absolutely wonderful - silky and sexy and comf...</td>\n",
              "      <td>4</td>\n",
              "      <td>1</td>\n",
              "      <td>0</td>\n",
              "      <td>Initmates</td>\n",
              "      <td>Intimate</td>\n",
              "      <td>Intimates</td>\n",
              "    </tr>\n",
              "    <tr>\n",
              "      <th>1</th>\n",
              "      <td>1080</td>\n",
              "      <td>34</td>\n",
              "      <td>Missing</td>\n",
              "      <td>Love this dress!  it's sooo pretty.  i happene...</td>\n",
              "      <td>5</td>\n",
              "      <td>1</td>\n",
              "      <td>4</td>\n",
              "      <td>General</td>\n",
              "      <td>Dresses</td>\n",
              "      <td>Dresses</td>\n",
              "    </tr>\n",
              "    <tr>\n",
              "      <th>2</th>\n",
              "      <td>1077</td>\n",
              "      <td>60</td>\n",
              "      <td>Some major design flaws</td>\n",
              "      <td>I had such high hopes for this dress and reall...</td>\n",
              "      <td>3</td>\n",
              "      <td>0</td>\n",
              "      <td>0</td>\n",
              "      <td>General</td>\n",
              "      <td>Dresses</td>\n",
              "      <td>Dresses</td>\n",
              "    </tr>\n",
              "  </tbody>\n",
              "</table>\n",
              "</div>\n",
              "      <button class=\"colab-df-convert\" onclick=\"convertToInteractive('df-a4022eee-180a-4fc1-bc70-1f1189980b05')\"\n",
              "              title=\"Convert this dataframe to an interactive table.\"\n",
              "              style=\"display:none;\">\n",
              "        \n",
              "  <svg xmlns=\"http://www.w3.org/2000/svg\" height=\"24px\"viewBox=\"0 0 24 24\"\n",
              "       width=\"24px\">\n",
              "    <path d=\"M0 0h24v24H0V0z\" fill=\"none\"/>\n",
              "    <path d=\"M18.56 5.44l.94 2.06.94-2.06 2.06-.94-2.06-.94-.94-2.06-.94 2.06-2.06.94zm-11 1L8.5 8.5l.94-2.06 2.06-.94-2.06-.94L8.5 2.5l-.94 2.06-2.06.94zm10 10l.94 2.06.94-2.06 2.06-.94-2.06-.94-.94-2.06-.94 2.06-2.06.94z\"/><path d=\"M17.41 7.96l-1.37-1.37c-.4-.4-.92-.59-1.43-.59-.52 0-1.04.2-1.43.59L10.3 9.45l-7.72 7.72c-.78.78-.78 2.05 0 2.83L4 21.41c.39.39.9.59 1.41.59.51 0 1.02-.2 1.41-.59l7.78-7.78 2.81-2.81c.8-.78.8-2.07 0-2.86zM5.41 20L4 18.59l7.72-7.72 1.47 1.35L5.41 20z\"/>\n",
              "  </svg>\n",
              "      </button>\n",
              "      \n",
              "  <style>\n",
              "    .colab-df-container {\n",
              "      display:flex;\n",
              "      flex-wrap:wrap;\n",
              "      gap: 12px;\n",
              "    }\n",
              "\n",
              "    .colab-df-convert {\n",
              "      background-color: #E8F0FE;\n",
              "      border: none;\n",
              "      border-radius: 50%;\n",
              "      cursor: pointer;\n",
              "      display: none;\n",
              "      fill: #1967D2;\n",
              "      height: 32px;\n",
              "      padding: 0 0 0 0;\n",
              "      width: 32px;\n",
              "    }\n",
              "\n",
              "    .colab-df-convert:hover {\n",
              "      background-color: #E2EBFA;\n",
              "      box-shadow: 0px 1px 2px rgba(60, 64, 67, 0.3), 0px 1px 3px 1px rgba(60, 64, 67, 0.15);\n",
              "      fill: #174EA6;\n",
              "    }\n",
              "\n",
              "    [theme=dark] .colab-df-convert {\n",
              "      background-color: #3B4455;\n",
              "      fill: #D2E3FC;\n",
              "    }\n",
              "\n",
              "    [theme=dark] .colab-df-convert:hover {\n",
              "      background-color: #434B5C;\n",
              "      box-shadow: 0px 1px 3px 1px rgba(0, 0, 0, 0.15);\n",
              "      filter: drop-shadow(0px 1px 2px rgba(0, 0, 0, 0.3));\n",
              "      fill: #FFFFFF;\n",
              "    }\n",
              "  </style>\n",
              "\n",
              "      <script>\n",
              "        const buttonEl =\n",
              "          document.querySelector('#df-a4022eee-180a-4fc1-bc70-1f1189980b05 button.colab-df-convert');\n",
              "        buttonEl.style.display =\n",
              "          google.colab.kernel.accessAllowed ? 'block' : 'none';\n",
              "\n",
              "        async function convertToInteractive(key) {\n",
              "          const element = document.querySelector('#df-a4022eee-180a-4fc1-bc70-1f1189980b05');\n",
              "          const dataTable =\n",
              "            await google.colab.kernel.invokeFunction('convertToInteractive',\n",
              "                                                     [key], {});\n",
              "          if (!dataTable) return;\n",
              "\n",
              "          const docLinkHtml = 'Like what you see? Visit the ' +\n",
              "            '<a target=\"_blank\" href=https://colab.research.google.com/notebooks/data_table.ipynb>data table notebook</a>'\n",
              "            + ' to learn more about interactive tables.';\n",
              "          element.innerHTML = '';\n",
              "          dataTable['output_type'] = 'display_data';\n",
              "          await google.colab.output.renderOutput(dataTable, element);\n",
              "          const docLink = document.createElement('div');\n",
              "          docLink.innerHTML = docLinkHtml;\n",
              "          element.appendChild(docLink);\n",
              "        }\n",
              "      </script>\n",
              "    </div>\n",
              "  </div>\n",
              "  "
            ],
            "text/plain": [
              "   Clothing_ID  Age  ... Department_Name Class_Name\n",
              "0          767   33  ...        Intimate  Intimates\n",
              "1         1080   34  ...         Dresses    Dresses\n",
              "2         1077   60  ...         Dresses    Dresses\n",
              "\n",
              "[3 rows x 10 columns]"
            ]
          },
          "metadata": {},
          "execution_count": 18
        }
      ]
    },
    {
      "cell_type": "code",
      "source": [
        "#To check for catagorical featured \n",
        "for feature in df.columns:\n",
        "    print('\\n ')\n",
        "    print('*************','Column name:',feature,'*************')\n",
        "    print(' Number of Unique values:',df[feature].nunique())\n",
        "    #print(' ')\n",
        "    print('***************-end-******************************')"
      ],
      "metadata": {
        "colab": {
          "base_uri": "https://localhost:8080/"
        },
        "id": "puCqz-6QI585",
        "outputId": "2a4501d8-9116-4530-f661-a63d096bdf94"
      },
      "execution_count": 19,
      "outputs": [
        {
          "output_type": "stream",
          "name": "stdout",
          "text": [
            "\n",
            " \n",
            "************* Column name: Clothing_ID *************\n",
            " Number of Unique values: 1206\n",
            "***************-end-******************************\n",
            "\n",
            " \n",
            "************* Column name: Age *************\n",
            " Number of Unique values: 77\n",
            "***************-end-******************************\n",
            "\n",
            " \n",
            "************* Column name: Title *************\n",
            " Number of Unique values: 13994\n",
            "***************-end-******************************\n",
            "\n",
            " \n",
            "************* Column name: Review_Text *************\n",
            " Number of Unique values: 22635\n",
            "***************-end-******************************\n",
            "\n",
            " \n",
            "************* Column name: Rating *************\n",
            " Number of Unique values: 5\n",
            "***************-end-******************************\n",
            "\n",
            " \n",
            "************* Column name: Recommended_IND *************\n",
            " Number of Unique values: 2\n",
            "***************-end-******************************\n",
            "\n",
            " \n",
            "************* Column name: Positive_Feedback_Count *************\n",
            " Number of Unique values: 82\n",
            "***************-end-******************************\n",
            "\n",
            " \n",
            "************* Column name: Division_Name *************\n",
            " Number of Unique values: 4\n",
            "***************-end-******************************\n",
            "\n",
            " \n",
            "************* Column name: Department_Name *************\n",
            " Number of Unique values: 7\n",
            "***************-end-******************************\n",
            "\n",
            " \n",
            "************* Column name: Class_Name *************\n",
            " Number of Unique values: 21\n",
            "***************-end-******************************\n"
          ]
        }
      ]
    },
    {
      "cell_type": "code",
      "source": [
        "# categorical columns\n",
        "cat_columns = ['Department_Name','Division_Name','Class_Name']"
      ],
      "metadata": {
        "id": "2pCDbE6dJbCo"
      },
      "execution_count": 20,
      "outputs": []
    },
    {
      "cell_type": "markdown",
      "source": [
        "Label encode Department_Name , Division_Name and Class_Name fields"
      ],
      "metadata": {
        "id": "8fKHMsevKHkp"
      }
    },
    {
      "cell_type": "markdown",
      "source": [
        "#Label Encoding of categorical data"
      ],
      "metadata": {
        "id": "RDi67tU5Io34"
      }
    },
    {
      "cell_type": "code",
      "source": [
        "#Label Encoding for object to numeric conversion\n",
        "from sklearn.preprocessing import LabelEncoder\n",
        "le = LabelEncoder()\n",
        "\n",
        "for x in cat_columns:\n",
        "    le.fit(df[x])\n",
        "    df[x] = le.transform(df[x].values)\n",
        "\n",
        "df.head()"
      ],
      "metadata": {
        "colab": {
          "base_uri": "https://localhost:8080/",
          "height": 338
        },
        "id": "t3UouE65N1Vf",
        "outputId": "b308cd98-0bea-439d-833d-286b6400a6cc"
      },
      "execution_count": 21,
      "outputs": [
        {
          "output_type": "execute_result",
          "data": {
            "text/plain": [
              "LabelEncoder()"
            ]
          },
          "metadata": {},
          "execution_count": 21
        },
        {
          "output_type": "execute_result",
          "data": {
            "text/plain": [
              "LabelEncoder()"
            ]
          },
          "metadata": {},
          "execution_count": 21
        },
        {
          "output_type": "execute_result",
          "data": {
            "text/plain": [
              "LabelEncoder()"
            ]
          },
          "metadata": {},
          "execution_count": 21
        },
        {
          "output_type": "execute_result",
          "data": {
            "text/html": [
              "\n",
              "  <div id=\"df-7260a547-0774-4366-83a4-e6f2cd945e3b\">\n",
              "    <div class=\"colab-df-container\">\n",
              "      <div>\n",
              "<style scoped>\n",
              "    .dataframe tbody tr th:only-of-type {\n",
              "        vertical-align: middle;\n",
              "    }\n",
              "\n",
              "    .dataframe tbody tr th {\n",
              "        vertical-align: top;\n",
              "    }\n",
              "\n",
              "    .dataframe thead th {\n",
              "        text-align: right;\n",
              "    }\n",
              "</style>\n",
              "<table border=\"1\" class=\"dataframe\">\n",
              "  <thead>\n",
              "    <tr style=\"text-align: right;\">\n",
              "      <th></th>\n",
              "      <th>Clothing_ID</th>\n",
              "      <th>Age</th>\n",
              "      <th>Title</th>\n",
              "      <th>Review_Text</th>\n",
              "      <th>Rating</th>\n",
              "      <th>Recommended_IND</th>\n",
              "      <th>Positive_Feedback_Count</th>\n",
              "      <th>Division_Name</th>\n",
              "      <th>Department_Name</th>\n",
              "      <th>Class_Name</th>\n",
              "    </tr>\n",
              "  </thead>\n",
              "  <tbody>\n",
              "    <tr>\n",
              "      <th>0</th>\n",
              "      <td>767</td>\n",
              "      <td>33</td>\n",
              "      <td>Missing</td>\n",
              "      <td>Absolutely wonderful - silky and sexy and comf...</td>\n",
              "      <td>4</td>\n",
              "      <td>1</td>\n",
              "      <td>0</td>\n",
              "      <td>2</td>\n",
              "      <td>2</td>\n",
              "      <td>5</td>\n",
              "    </tr>\n",
              "    <tr>\n",
              "      <th>1</th>\n",
              "      <td>1080</td>\n",
              "      <td>34</td>\n",
              "      <td>Missing</td>\n",
              "      <td>Love this dress!  it's sooo pretty.  i happene...</td>\n",
              "      <td>5</td>\n",
              "      <td>1</td>\n",
              "      <td>4</td>\n",
              "      <td>0</td>\n",
              "      <td>1</td>\n",
              "      <td>3</td>\n",
              "    </tr>\n",
              "    <tr>\n",
              "      <th>2</th>\n",
              "      <td>1077</td>\n",
              "      <td>60</td>\n",
              "      <td>Some major design flaws</td>\n",
              "      <td>I had such high hopes for this dress and reall...</td>\n",
              "      <td>3</td>\n",
              "      <td>0</td>\n",
              "      <td>0</td>\n",
              "      <td>0</td>\n",
              "      <td>1</td>\n",
              "      <td>3</td>\n",
              "    </tr>\n",
              "    <tr>\n",
              "      <th>3</th>\n",
              "      <td>1049</td>\n",
              "      <td>50</td>\n",
              "      <td>My favorite buy!</td>\n",
              "      <td>I love, love, love this jumpsuit. it's fun, fl...</td>\n",
              "      <td>5</td>\n",
              "      <td>1</td>\n",
              "      <td>0</td>\n",
              "      <td>1</td>\n",
              "      <td>0</td>\n",
              "      <td>14</td>\n",
              "    </tr>\n",
              "    <tr>\n",
              "      <th>4</th>\n",
              "      <td>847</td>\n",
              "      <td>47</td>\n",
              "      <td>Flattering shirt</td>\n",
              "      <td>This shirt is very flattering to all due to th...</td>\n",
              "      <td>5</td>\n",
              "      <td>1</td>\n",
              "      <td>6</td>\n",
              "      <td>0</td>\n",
              "      <td>5</td>\n",
              "      <td>0</td>\n",
              "    </tr>\n",
              "  </tbody>\n",
              "</table>\n",
              "</div>\n",
              "      <button class=\"colab-df-convert\" onclick=\"convertToInteractive('df-7260a547-0774-4366-83a4-e6f2cd945e3b')\"\n",
              "              title=\"Convert this dataframe to an interactive table.\"\n",
              "              style=\"display:none;\">\n",
              "        \n",
              "  <svg xmlns=\"http://www.w3.org/2000/svg\" height=\"24px\"viewBox=\"0 0 24 24\"\n",
              "       width=\"24px\">\n",
              "    <path d=\"M0 0h24v24H0V0z\" fill=\"none\"/>\n",
              "    <path d=\"M18.56 5.44l.94 2.06.94-2.06 2.06-.94-2.06-.94-.94-2.06-.94 2.06-2.06.94zm-11 1L8.5 8.5l.94-2.06 2.06-.94-2.06-.94L8.5 2.5l-.94 2.06-2.06.94zm10 10l.94 2.06.94-2.06 2.06-.94-2.06-.94-.94-2.06-.94 2.06-2.06.94z\"/><path d=\"M17.41 7.96l-1.37-1.37c-.4-.4-.92-.59-1.43-.59-.52 0-1.04.2-1.43.59L10.3 9.45l-7.72 7.72c-.78.78-.78 2.05 0 2.83L4 21.41c.39.39.9.59 1.41.59.51 0 1.02-.2 1.41-.59l7.78-7.78 2.81-2.81c.8-.78.8-2.07 0-2.86zM5.41 20L4 18.59l7.72-7.72 1.47 1.35L5.41 20z\"/>\n",
              "  </svg>\n",
              "      </button>\n",
              "      \n",
              "  <style>\n",
              "    .colab-df-container {\n",
              "      display:flex;\n",
              "      flex-wrap:wrap;\n",
              "      gap: 12px;\n",
              "    }\n",
              "\n",
              "    .colab-df-convert {\n",
              "      background-color: #E8F0FE;\n",
              "      border: none;\n",
              "      border-radius: 50%;\n",
              "      cursor: pointer;\n",
              "      display: none;\n",
              "      fill: #1967D2;\n",
              "      height: 32px;\n",
              "      padding: 0 0 0 0;\n",
              "      width: 32px;\n",
              "    }\n",
              "\n",
              "    .colab-df-convert:hover {\n",
              "      background-color: #E2EBFA;\n",
              "      box-shadow: 0px 1px 2px rgba(60, 64, 67, 0.3), 0px 1px 3px 1px rgba(60, 64, 67, 0.15);\n",
              "      fill: #174EA6;\n",
              "    }\n",
              "\n",
              "    [theme=dark] .colab-df-convert {\n",
              "      background-color: #3B4455;\n",
              "      fill: #D2E3FC;\n",
              "    }\n",
              "\n",
              "    [theme=dark] .colab-df-convert:hover {\n",
              "      background-color: #434B5C;\n",
              "      box-shadow: 0px 1px 3px 1px rgba(0, 0, 0, 0.15);\n",
              "      filter: drop-shadow(0px 1px 2px rgba(0, 0, 0, 0.3));\n",
              "      fill: #FFFFFF;\n",
              "    }\n",
              "  </style>\n",
              "\n",
              "      <script>\n",
              "        const buttonEl =\n",
              "          document.querySelector('#df-7260a547-0774-4366-83a4-e6f2cd945e3b button.colab-df-convert');\n",
              "        buttonEl.style.display =\n",
              "          google.colab.kernel.accessAllowed ? 'block' : 'none';\n",
              "\n",
              "        async function convertToInteractive(key) {\n",
              "          const element = document.querySelector('#df-7260a547-0774-4366-83a4-e6f2cd945e3b');\n",
              "          const dataTable =\n",
              "            await google.colab.kernel.invokeFunction('convertToInteractive',\n",
              "                                                     [key], {});\n",
              "          if (!dataTable) return;\n",
              "\n",
              "          const docLinkHtml = 'Like what you see? Visit the ' +\n",
              "            '<a target=\"_blank\" href=https://colab.research.google.com/notebooks/data_table.ipynb>data table notebook</a>'\n",
              "            + ' to learn more about interactive tables.';\n",
              "          element.innerHTML = '';\n",
              "          dataTable['output_type'] = 'display_data';\n",
              "          await google.colab.output.renderOutput(dataTable, element);\n",
              "          const docLink = document.createElement('div');\n",
              "          docLink.innerHTML = docLinkHtml;\n",
              "          element.appendChild(docLink);\n",
              "        }\n",
              "      </script>\n",
              "    </div>\n",
              "  </div>\n",
              "  "
            ],
            "text/plain": [
              "   Clothing_ID  Age  ... Department_Name Class_Name\n",
              "0          767   33  ...               2          5\n",
              "1         1080   34  ...               1          3\n",
              "2         1077   60  ...               1          3\n",
              "3         1049   50  ...               0         14\n",
              "4          847   47  ...               5          0\n",
              "\n",
              "[5 rows x 10 columns]"
            ]
          },
          "metadata": {},
          "execution_count": 21
        }
      ]
    },
    {
      "cell_type": "markdown",
      "source": [
        "Final look at transformed data"
      ],
      "metadata": {
        "id": "DHs6pmSGPcIW"
      }
    },
    {
      "cell_type": "code",
      "source": [
        "#To check for catagorical featured \n",
        "for feature in cat_columns:\n",
        "    print('\\n ')\n",
        "    print('*************','Column name:',feature,'*************')\n",
        "    print(' Number of Unique values:',df[feature].unique())\n",
        "    #print(' ')\n",
        "    print('***************-end-******************************')"
      ],
      "metadata": {
        "colab": {
          "base_uri": "https://localhost:8080/"
        },
        "id": "VQjILmLfOu6f",
        "outputId": "d67e8c18-dada-4100-d84a-6ce94793ca61"
      },
      "execution_count": 22,
      "outputs": [
        {
          "output_type": "stream",
          "name": "stdout",
          "text": [
            "\n",
            " \n",
            "************* Column name: Department_Name *************\n",
            " Number of Unique values: [2 1 0 5 3 6 4]\n",
            "***************-end-******************************\n",
            "\n",
            " \n",
            "************* Column name: Division_Name *************\n",
            " Number of Unique values: [2 0 1 3]\n",
            "***************-end-******************************\n",
            "\n",
            " \n",
            "************* Column name: Class_Name *************\n",
            " Number of Unique values: [ 5  3 14  0  8 13 11 18 16  4 17  6 19 20  7 10 15  9  1 12  2]\n",
            "***************-end-******************************\n"
          ]
        }
      ]
    },
    {
      "cell_type": "code",
      "source": [
        "df.info()"
      ],
      "metadata": {
        "colab": {
          "base_uri": "https://localhost:8080/"
        },
        "id": "JHayZEMXX6rL",
        "outputId": "1c63b0da-2f01-4ee8-9ada-b80e6ddc5c21"
      },
      "execution_count": 23,
      "outputs": [
        {
          "output_type": "stream",
          "name": "stdout",
          "text": [
            "<class 'pandas.core.frame.DataFrame'>\n",
            "Int64Index: 23486 entries, 0 to 23485\n",
            "Data columns (total 10 columns):\n",
            " #   Column                   Non-Null Count  Dtype \n",
            "---  ------                   --------------  ----- \n",
            " 0   Clothing_ID              23486 non-null  int64 \n",
            " 1   Age                      23486 non-null  int64 \n",
            " 2   Title                    23486 non-null  object\n",
            " 3   Review_Text              23486 non-null  object\n",
            " 4   Rating                   23486 non-null  int64 \n",
            " 5   Recommended_IND          23486 non-null  int64 \n",
            " 6   Positive_Feedback_Count  23486 non-null  int64 \n",
            " 7   Division_Name            23486 non-null  int64 \n",
            " 8   Department_Name          23486 non-null  int64 \n",
            " 9   Class_Name               23486 non-null  int64 \n",
            "dtypes: int64(8), object(2)\n",
            "memory usage: 2.0+ MB\n"
          ]
        }
      ]
    },
    {
      "cell_type": "markdown",
      "source": [
        "#Scalling"
      ],
      "metadata": {
        "id": "hzwL8a9LUuBT"
      }
    },
    {
      "cell_type": "code",
      "source": [
        "ss= MinMaxScaler(feature_range=(-1, 1))\n",
        "df[\"Age\"] = ss.fit_transform(df.Age.values.reshape(-1, 1))"
      ],
      "metadata": {
        "id": "kXa0k211Uvrb"
      },
      "execution_count": 24,
      "outputs": []
    },
    {
      "cell_type": "code",
      "source": [
        "df[\"Positive_Feedback_Count\"] = ss.fit_transform(df.Positive_Feedback_Count.values.reshape(-1, 1))"
      ],
      "metadata": {
        "id": "BSWlkv92U-sz"
      },
      "execution_count": 25,
      "outputs": []
    },
    {
      "cell_type": "code",
      "source": [
        "df.head()"
      ],
      "metadata": {
        "colab": {
          "base_uri": "https://localhost:8080/",
          "height": 337
        },
        "id": "VSH6WboiU4VK",
        "outputId": "469d556e-9b24-40a9-98e7-882678e0fa23"
      },
      "execution_count": 26,
      "outputs": [
        {
          "output_type": "execute_result",
          "data": {
            "text/html": [
              "\n",
              "  <div id=\"df-512bb179-e22d-4e1c-ba4f-31b13d4fe2f2\">\n",
              "    <div class=\"colab-df-container\">\n",
              "      <div>\n",
              "<style scoped>\n",
              "    .dataframe tbody tr th:only-of-type {\n",
              "        vertical-align: middle;\n",
              "    }\n",
              "\n",
              "    .dataframe tbody tr th {\n",
              "        vertical-align: top;\n",
              "    }\n",
              "\n",
              "    .dataframe thead th {\n",
              "        text-align: right;\n",
              "    }\n",
              "</style>\n",
              "<table border=\"1\" class=\"dataframe\">\n",
              "  <thead>\n",
              "    <tr style=\"text-align: right;\">\n",
              "      <th></th>\n",
              "      <th>Clothing_ID</th>\n",
              "      <th>Age</th>\n",
              "      <th>Title</th>\n",
              "      <th>Review_Text</th>\n",
              "      <th>Rating</th>\n",
              "      <th>Recommended_IND</th>\n",
              "      <th>Positive_Feedback_Count</th>\n",
              "      <th>Division_Name</th>\n",
              "      <th>Department_Name</th>\n",
              "      <th>Class_Name</th>\n",
              "    </tr>\n",
              "  </thead>\n",
              "  <tbody>\n",
              "    <tr>\n",
              "      <th>0</th>\n",
              "      <td>767</td>\n",
              "      <td>-0.629630</td>\n",
              "      <td>Missing</td>\n",
              "      <td>Absolutely wonderful - silky and sexy and comf...</td>\n",
              "      <td>4</td>\n",
              "      <td>1</td>\n",
              "      <td>-1.000000</td>\n",
              "      <td>2</td>\n",
              "      <td>2</td>\n",
              "      <td>5</td>\n",
              "    </tr>\n",
              "    <tr>\n",
              "      <th>1</th>\n",
              "      <td>1080</td>\n",
              "      <td>-0.604938</td>\n",
              "      <td>Missing</td>\n",
              "      <td>Love this dress!  it's sooo pretty.  i happene...</td>\n",
              "      <td>5</td>\n",
              "      <td>1</td>\n",
              "      <td>-0.934426</td>\n",
              "      <td>0</td>\n",
              "      <td>1</td>\n",
              "      <td>3</td>\n",
              "    </tr>\n",
              "    <tr>\n",
              "      <th>2</th>\n",
              "      <td>1077</td>\n",
              "      <td>0.037037</td>\n",
              "      <td>Some major design flaws</td>\n",
              "      <td>I had such high hopes for this dress and reall...</td>\n",
              "      <td>3</td>\n",
              "      <td>0</td>\n",
              "      <td>-1.000000</td>\n",
              "      <td>0</td>\n",
              "      <td>1</td>\n",
              "      <td>3</td>\n",
              "    </tr>\n",
              "    <tr>\n",
              "      <th>3</th>\n",
              "      <td>1049</td>\n",
              "      <td>-0.209877</td>\n",
              "      <td>My favorite buy!</td>\n",
              "      <td>I love, love, love this jumpsuit. it's fun, fl...</td>\n",
              "      <td>5</td>\n",
              "      <td>1</td>\n",
              "      <td>-1.000000</td>\n",
              "      <td>1</td>\n",
              "      <td>0</td>\n",
              "      <td>14</td>\n",
              "    </tr>\n",
              "    <tr>\n",
              "      <th>4</th>\n",
              "      <td>847</td>\n",
              "      <td>-0.283951</td>\n",
              "      <td>Flattering shirt</td>\n",
              "      <td>This shirt is very flattering to all due to th...</td>\n",
              "      <td>5</td>\n",
              "      <td>1</td>\n",
              "      <td>-0.901639</td>\n",
              "      <td>0</td>\n",
              "      <td>5</td>\n",
              "      <td>0</td>\n",
              "    </tr>\n",
              "  </tbody>\n",
              "</table>\n",
              "</div>\n",
              "      <button class=\"colab-df-convert\" onclick=\"convertToInteractive('df-512bb179-e22d-4e1c-ba4f-31b13d4fe2f2')\"\n",
              "              title=\"Convert this dataframe to an interactive table.\"\n",
              "              style=\"display:none;\">\n",
              "        \n",
              "  <svg xmlns=\"http://www.w3.org/2000/svg\" height=\"24px\"viewBox=\"0 0 24 24\"\n",
              "       width=\"24px\">\n",
              "    <path d=\"M0 0h24v24H0V0z\" fill=\"none\"/>\n",
              "    <path d=\"M18.56 5.44l.94 2.06.94-2.06 2.06-.94-2.06-.94-.94-2.06-.94 2.06-2.06.94zm-11 1L8.5 8.5l.94-2.06 2.06-.94-2.06-.94L8.5 2.5l-.94 2.06-2.06.94zm10 10l.94 2.06.94-2.06 2.06-.94-2.06-.94-.94-2.06-.94 2.06-2.06.94z\"/><path d=\"M17.41 7.96l-1.37-1.37c-.4-.4-.92-.59-1.43-.59-.52 0-1.04.2-1.43.59L10.3 9.45l-7.72 7.72c-.78.78-.78 2.05 0 2.83L4 21.41c.39.39.9.59 1.41.59.51 0 1.02-.2 1.41-.59l7.78-7.78 2.81-2.81c.8-.78.8-2.07 0-2.86zM5.41 20L4 18.59l7.72-7.72 1.47 1.35L5.41 20z\"/>\n",
              "  </svg>\n",
              "      </button>\n",
              "      \n",
              "  <style>\n",
              "    .colab-df-container {\n",
              "      display:flex;\n",
              "      flex-wrap:wrap;\n",
              "      gap: 12px;\n",
              "    }\n",
              "\n",
              "    .colab-df-convert {\n",
              "      background-color: #E8F0FE;\n",
              "      border: none;\n",
              "      border-radius: 50%;\n",
              "      cursor: pointer;\n",
              "      display: none;\n",
              "      fill: #1967D2;\n",
              "      height: 32px;\n",
              "      padding: 0 0 0 0;\n",
              "      width: 32px;\n",
              "    }\n",
              "\n",
              "    .colab-df-convert:hover {\n",
              "      background-color: #E2EBFA;\n",
              "      box-shadow: 0px 1px 2px rgba(60, 64, 67, 0.3), 0px 1px 3px 1px rgba(60, 64, 67, 0.15);\n",
              "      fill: #174EA6;\n",
              "    }\n",
              "\n",
              "    [theme=dark] .colab-df-convert {\n",
              "      background-color: #3B4455;\n",
              "      fill: #D2E3FC;\n",
              "    }\n",
              "\n",
              "    [theme=dark] .colab-df-convert:hover {\n",
              "      background-color: #434B5C;\n",
              "      box-shadow: 0px 1px 3px 1px rgba(0, 0, 0, 0.15);\n",
              "      filter: drop-shadow(0px 1px 2px rgba(0, 0, 0, 0.3));\n",
              "      fill: #FFFFFF;\n",
              "    }\n",
              "  </style>\n",
              "\n",
              "      <script>\n",
              "        const buttonEl =\n",
              "          document.querySelector('#df-512bb179-e22d-4e1c-ba4f-31b13d4fe2f2 button.colab-df-convert');\n",
              "        buttonEl.style.display =\n",
              "          google.colab.kernel.accessAllowed ? 'block' : 'none';\n",
              "\n",
              "        async function convertToInteractive(key) {\n",
              "          const element = document.querySelector('#df-512bb179-e22d-4e1c-ba4f-31b13d4fe2f2');\n",
              "          const dataTable =\n",
              "            await google.colab.kernel.invokeFunction('convertToInteractive',\n",
              "                                                     [key], {});\n",
              "          if (!dataTable) return;\n",
              "\n",
              "          const docLinkHtml = 'Like what you see? Visit the ' +\n",
              "            '<a target=\"_blank\" href=https://colab.research.google.com/notebooks/data_table.ipynb>data table notebook</a>'\n",
              "            + ' to learn more about interactive tables.';\n",
              "          element.innerHTML = '';\n",
              "          dataTable['output_type'] = 'display_data';\n",
              "          await google.colab.output.renderOutput(dataTable, element);\n",
              "          const docLink = document.createElement('div');\n",
              "          docLink.innerHTML = docLinkHtml;\n",
              "          element.appendChild(docLink);\n",
              "        }\n",
              "      </script>\n",
              "    </div>\n",
              "  </div>\n",
              "  "
            ],
            "text/plain": [
              "   Clothing_ID       Age  ... Department_Name Class_Name\n",
              "0          767 -0.629630  ...               2          5\n",
              "1         1080 -0.604938  ...               1          3\n",
              "2         1077  0.037037  ...               1          3\n",
              "3         1049 -0.209877  ...               0         14\n",
              "4          847 -0.283951  ...               5          0\n",
              "\n",
              "[5 rows x 10 columns]"
            ]
          },
          "metadata": {},
          "execution_count": 26
        }
      ]
    },
    {
      "cell_type": "markdown",
      "source": [
        "#Transform text fields to integer sequences"
      ],
      "metadata": {
        "id": "D6V-PqyBQRHt"
      }
    },
    {
      "cell_type": "markdown",
      "source": [
        "Fields are Review_Text and Title.\n",
        "By default, Tokenizer() removes all punctuation, turning the texts into space-separated sequences of words (words maybe include the ' character). These sequences are then split into lists of tokens. They are then indexed."
      ],
      "metadata": {
        "id": "x63B01EWQYk2"
      }
    },
    {
      "cell_type": "code",
      "source": [
        "te = Tokenizer()  # Create Tokenizer() object\n",
        "te.fit_on_texts(df.Review_Text.values) # Just training. No transformation as yet\n",
        "\n",
        "print(\"Transforming of text to int seq for column, 'seq_Review_Text'\") #  Transform 'Review_Text' to integer sequences\n",
        "df[\"seq_Review_Text\"] = te.texts_to_sequences(df.Review_Text.values)\n",
        "print(\"-----\\n\")"
      ],
      "metadata": {
        "colab": {
          "base_uri": "https://localhost:8080/"
        },
        "id": "6r7NZ6UvWTSE",
        "outputId": "fbfb04ee-43ee-4745-c209-f923bb750966"
      },
      "execution_count": 27,
      "outputs": [
        {
          "output_type": "stream",
          "name": "stdout",
          "text": [
            "Transforming of text to int seq for column, 'seq_Review_Text'\n",
            "-----\n",
            "\n"
          ]
        }
      ]
    },
    {
      "cell_type": "code",
      "source": [
        "te.fit_on_texts(df.Title.values) # Just training. No transformation as yet\n",
        "\n",
        "print(\"Transforming of text to int seq for column, 'seq_Title'\") #  Transform 'Review_Text' to integer sequences\n",
        "df[\"seq_Title\"] = te.texts_to_sequences(df.Title.values)\n",
        "print(\"-----\\n\")"
      ],
      "metadata": {
        "colab": {
          "base_uri": "https://localhost:8080/"
        },
        "id": "qnLFXTLoWp_E",
        "outputId": "6cd1bd97-9bcb-49ef-f996-22413d5d8a47"
      },
      "execution_count": 28,
      "outputs": [
        {
          "output_type": "stream",
          "name": "stdout",
          "text": [
            "Transforming of text to int seq for column, 'seq_Title'\n",
            "-----\n",
            "\n"
          ]
        }
      ]
    },
    {
      "cell_type": "code",
      "source": [
        "df.head()"
      ],
      "metadata": {
        "colab": {
          "base_uri": "https://localhost:8080/",
          "height": 510
        },
        "id": "G-QSbFkNYjKb",
        "outputId": "8242690b-ad81-4098-bb80-debd65d94cde"
      },
      "execution_count": 29,
      "outputs": [
        {
          "output_type": "execute_result",
          "data": {
            "text/html": [
              "\n",
              "  <div id=\"df-8c4e11ab-8af3-4484-91f8-02cf2cb8af60\">\n",
              "    <div class=\"colab-df-container\">\n",
              "      <div>\n",
              "<style scoped>\n",
              "    .dataframe tbody tr th:only-of-type {\n",
              "        vertical-align: middle;\n",
              "    }\n",
              "\n",
              "    .dataframe tbody tr th {\n",
              "        vertical-align: top;\n",
              "    }\n",
              "\n",
              "    .dataframe thead th {\n",
              "        text-align: right;\n",
              "    }\n",
              "</style>\n",
              "<table border=\"1\" class=\"dataframe\">\n",
              "  <thead>\n",
              "    <tr style=\"text-align: right;\">\n",
              "      <th></th>\n",
              "      <th>Clothing_ID</th>\n",
              "      <th>Age</th>\n",
              "      <th>Title</th>\n",
              "      <th>Review_Text</th>\n",
              "      <th>Rating</th>\n",
              "      <th>Recommended_IND</th>\n",
              "      <th>Positive_Feedback_Count</th>\n",
              "      <th>Division_Name</th>\n",
              "      <th>Department_Name</th>\n",
              "      <th>Class_Name</th>\n",
              "      <th>seq_Review_Text</th>\n",
              "      <th>seq_Title</th>\n",
              "    </tr>\n",
              "  </thead>\n",
              "  <tbody>\n",
              "    <tr>\n",
              "      <th>0</th>\n",
              "      <td>767</td>\n",
              "      <td>-0.629630</td>\n",
              "      <td>Missing</td>\n",
              "      <td>Absolutely wonderful - silky and sexy and comf...</td>\n",
              "      <td>4</td>\n",
              "      <td>1</td>\n",
              "      <td>-1.000000</td>\n",
              "      <td>2</td>\n",
              "      <td>2</td>\n",
              "      <td>5</td>\n",
              "      <td>[254, 533, 918, 3, 663, 3, 68]</td>\n",
              "      <td>[48]</td>\n",
              "    </tr>\n",
              "    <tr>\n",
              "      <th>1</th>\n",
              "      <td>1080</td>\n",
              "      <td>-0.604938</td>\n",
              "      <td>Missing</td>\n",
              "      <td>Love this dress!  it's sooo pretty.  i happene...</td>\n",
              "      <td>5</td>\n",
              "      <td>1</td>\n",
              "      <td>-0.934426</td>\n",
              "      <td>0</td>\n",
              "      <td>1</td>\n",
              "      <td>3</td>\n",
              "      <td>[21, 7, 18, 33, 1713, 99, 2, 1323, 8, 221, 5, ...</td>\n",
              "      <td>[48]</td>\n",
              "    </tr>\n",
              "    <tr>\n",
              "      <th>2</th>\n",
              "      <td>1077</td>\n",
              "      <td>0.037037</td>\n",
              "      <td>Some major design flaws</td>\n",
              "      <td>I had such high hopes for this dress and reall...</td>\n",
              "      <td>3</td>\n",
              "      <td>0</td>\n",
              "      <td>-1.000000</td>\n",
              "      <td>0</td>\n",
              "      <td>1</td>\n",
              "      <td>3</td>\n",
              "      <td>[2, 65, 313, 178, 1096, 12, 7, 18, 3, 51, 195,...</td>\n",
              "      <td>[158, 1835, 135, 1101]</td>\n",
              "    </tr>\n",
              "    <tr>\n",
              "      <th>3</th>\n",
              "      <td>1049</td>\n",
              "      <td>-0.209877</td>\n",
              "      <td>My favorite buy!</td>\n",
              "      <td>I love, love, love this jumpsuit. it's fun, fl...</td>\n",
              "      <td>5</td>\n",
              "      <td>1</td>\n",
              "      <td>-1.000000</td>\n",
              "      <td>1</td>\n",
              "      <td>0</td>\n",
              "      <td>14</td>\n",
              "      <td>[2, 21, 21, 21, 7, 631, 33, 284, 1303, 3, 789,...</td>\n",
              "      <td>[18, 293, 221]</td>\n",
              "    </tr>\n",
              "    <tr>\n",
              "      <th>4</th>\n",
              "      <td>847</td>\n",
              "      <td>-0.283951</td>\n",
              "      <td>Flattering shirt</td>\n",
              "      <td>This shirt is very flattering to all due to th...</td>\n",
              "      <td>5</td>\n",
              "      <td>1</td>\n",
              "      <td>-0.901639</td>\n",
              "      <td>0</td>\n",
              "      <td>5</td>\n",
              "      <td>0</td>\n",
              "      <td>[7, 80, 6, 23, 58, 8, 75, 487, 8, 1, 1158, 156...</td>\n",
              "      <td>[56, 72]</td>\n",
              "    </tr>\n",
              "  </tbody>\n",
              "</table>\n",
              "</div>\n",
              "      <button class=\"colab-df-convert\" onclick=\"convertToInteractive('df-8c4e11ab-8af3-4484-91f8-02cf2cb8af60')\"\n",
              "              title=\"Convert this dataframe to an interactive table.\"\n",
              "              style=\"display:none;\">\n",
              "        \n",
              "  <svg xmlns=\"http://www.w3.org/2000/svg\" height=\"24px\"viewBox=\"0 0 24 24\"\n",
              "       width=\"24px\">\n",
              "    <path d=\"M0 0h24v24H0V0z\" fill=\"none\"/>\n",
              "    <path d=\"M18.56 5.44l.94 2.06.94-2.06 2.06-.94-2.06-.94-.94-2.06-.94 2.06-2.06.94zm-11 1L8.5 8.5l.94-2.06 2.06-.94-2.06-.94L8.5 2.5l-.94 2.06-2.06.94zm10 10l.94 2.06.94-2.06 2.06-.94-2.06-.94-.94-2.06-.94 2.06-2.06.94z\"/><path d=\"M17.41 7.96l-1.37-1.37c-.4-.4-.92-.59-1.43-.59-.52 0-1.04.2-1.43.59L10.3 9.45l-7.72 7.72c-.78.78-.78 2.05 0 2.83L4 21.41c.39.39.9.59 1.41.59.51 0 1.02-.2 1.41-.59l7.78-7.78 2.81-2.81c.8-.78.8-2.07 0-2.86zM5.41 20L4 18.59l7.72-7.72 1.47 1.35L5.41 20z\"/>\n",
              "  </svg>\n",
              "      </button>\n",
              "      \n",
              "  <style>\n",
              "    .colab-df-container {\n",
              "      display:flex;\n",
              "      flex-wrap:wrap;\n",
              "      gap: 12px;\n",
              "    }\n",
              "\n",
              "    .colab-df-convert {\n",
              "      background-color: #E8F0FE;\n",
              "      border: none;\n",
              "      border-radius: 50%;\n",
              "      cursor: pointer;\n",
              "      display: none;\n",
              "      fill: #1967D2;\n",
              "      height: 32px;\n",
              "      padding: 0 0 0 0;\n",
              "      width: 32px;\n",
              "    }\n",
              "\n",
              "    .colab-df-convert:hover {\n",
              "      background-color: #E2EBFA;\n",
              "      box-shadow: 0px 1px 2px rgba(60, 64, 67, 0.3), 0px 1px 3px 1px rgba(60, 64, 67, 0.15);\n",
              "      fill: #174EA6;\n",
              "    }\n",
              "\n",
              "    [theme=dark] .colab-df-convert {\n",
              "      background-color: #3B4455;\n",
              "      fill: #D2E3FC;\n",
              "    }\n",
              "\n",
              "    [theme=dark] .colab-df-convert:hover {\n",
              "      background-color: #434B5C;\n",
              "      box-shadow: 0px 1px 3px 1px rgba(0, 0, 0, 0.15);\n",
              "      filter: drop-shadow(0px 1px 2px rgba(0, 0, 0, 0.3));\n",
              "      fill: #FFFFFF;\n",
              "    }\n",
              "  </style>\n",
              "\n",
              "      <script>\n",
              "        const buttonEl =\n",
              "          document.querySelector('#df-8c4e11ab-8af3-4484-91f8-02cf2cb8af60 button.colab-df-convert');\n",
              "        buttonEl.style.display =\n",
              "          google.colab.kernel.accessAllowed ? 'block' : 'none';\n",
              "\n",
              "        async function convertToInteractive(key) {\n",
              "          const element = document.querySelector('#df-8c4e11ab-8af3-4484-91f8-02cf2cb8af60');\n",
              "          const dataTable =\n",
              "            await google.colab.kernel.invokeFunction('convertToInteractive',\n",
              "                                                     [key], {});\n",
              "          if (!dataTable) return;\n",
              "\n",
              "          const docLinkHtml = 'Like what you see? Visit the ' +\n",
              "            '<a target=\"_blank\" href=https://colab.research.google.com/notebooks/data_table.ipynb>data table notebook</a>'\n",
              "            + ' to learn more about interactive tables.';\n",
              "          element.innerHTML = '';\n",
              "          dataTable['output_type'] = 'display_data';\n",
              "          await google.colab.output.renderOutput(dataTable, element);\n",
              "          const docLink = document.createElement('div');\n",
              "          docLink.innerHTML = docLinkHtml;\n",
              "          element.appendChild(docLink);\n",
              "        }\n",
              "      </script>\n",
              "    </div>\n",
              "  </div>\n",
              "  "
            ],
            "text/plain": [
              "   Clothing_ID  ...               seq_Title\n",
              "0          767  ...                    [48]\n",
              "1         1080  ...                    [48]\n",
              "2         1077  ...  [158, 1835, 135, 1101]\n",
              "3         1049  ...          [18, 293, 221]\n",
              "4          847  ...                [56, 72]\n",
              "\n",
              "[5 rows x 12 columns]"
            ]
          },
          "metadata": {},
          "execution_count": 29
        }
      ]
    },
    {
      "cell_type": "code",
      "source": [
        "#      Vocabulary sizes of all text-sequences and all label-encoded caregories\n",
        "#      This would be max integer value used in any column.\n",
        "#      Because conversion to integer sequence starts from 1 \n",
        "\n",
        "\n",
        "# Columns seq_Review_Text\n",
        "MAX_REVIEW_TEXT = np.max([df.explode('seq_Review_Text')['seq_Review_Text'].max() ]\n",
        "                     ) + 1\n",
        "print(f\"Maximum Vocabulary size in seq_Review_text is {MAX_REVIEW_TEXT}\")\n",
        "\n",
        "# Columns seq_Title\n",
        "MAX_TITLE = np.max([df.explode('seq_Title')['seq_Title'].max() ]\n",
        "                     ) + 1\n",
        "print(f\"Maximum Vocabulary size in seq_Title is {MAX_TITLE}\")"
      ],
      "metadata": {
        "colab": {
          "base_uri": "https://localhost:8080/"
        },
        "id": "3tLYa0zeYkKd",
        "outputId": "0b61e4f9-9663-4313-bac7-a971d059c6ca"
      },
      "execution_count": 31,
      "outputs": [
        {
          "output_type": "stream",
          "name": "stdout",
          "text": [
            "Maximum Vocabulary size in seq_Review_text is 14848\n",
            "Maximum Vocabulary size in seq_Title is 15395\n"
          ]
        }
      ]
    },
    {
      "cell_type": "code",
      "source": [
        "#  Column Division_Name (transformed by label encoder)\n",
        "MAX_Division_Name = df.Division_Name.max() + 1\n",
        "\n",
        "print(f\"Maximum Vocabulary size in Division_Name is {MAX_Division_Name}\")"
      ],
      "metadata": {
        "colab": {
          "base_uri": "https://localhost:8080/"
        },
        "id": "a_aWy26Ua9qP",
        "outputId": "97713d1d-8650-41f5-e779-e494c18f0ddc"
      },
      "execution_count": 32,
      "outputs": [
        {
          "output_type": "stream",
          "name": "stdout",
          "text": [
            "Maximum Vocabulary size in Division_Name is 4\n"
          ]
        }
      ]
    },
    {
      "cell_type": "code",
      "source": [
        "#  Column Department_Name (transformed by label encoder)\n",
        "MAX_Department_Name = df.Department_Name.max() + 1\n",
        "\n",
        "print(f\"Maximum Vocabulary size in Department_Name is {MAX_Department_Name}\")"
      ],
      "metadata": {
        "colab": {
          "base_uri": "https://localhost:8080/"
        },
        "id": "mlB-iaaXbtKY",
        "outputId": "e40b524f-5565-4ab2-e9d9-0a689d3a788f"
      },
      "execution_count": 33,
      "outputs": [
        {
          "output_type": "stream",
          "name": "stdout",
          "text": [
            "Maximum Vocabulary size in Department_Name is 7\n"
          ]
        }
      ]
    },
    {
      "cell_type": "code",
      "source": [
        "#  Column Class_Name (transformed by label encoder)\n",
        "MAX_Class_Name = df.Class_Name.max() + 1\n",
        "\n",
        "print(f\"Maximum Vocabulary size in Class_Name is {MAX_Class_Name}\")"
      ],
      "metadata": {
        "colab": {
          "base_uri": "https://localhost:8080/"
        },
        "id": "7Y5Wv1QLb55v",
        "outputId": "52b104ba-5fc3-430b-ffc0-97540aa3fd7a"
      },
      "execution_count": 34,
      "outputs": [
        {
          "output_type": "stream",
          "name": "stdout",
          "text": [
            "Maximum Vocabulary size in Class_Name is 21\n"
          ]
        }
      ]
    },
    {
      "cell_type": "code",
      "source": [
        "\n",
        "# Columnalready in integer format\n",
        "MAX_Rating = df.Rating.max()\n",
        "print(f\"Maximum Vocabulary size in Rating is {MAX_Rating} \")\n",
        "\n",
        "MAX_Positive_Feedback_Count = df.Positive_Feedback_Count.max()+1\n",
        "print(f\"Maximum Vocabulary size in Positive_Feedback_Count is {MAX_Positive_Feedback_Count} \")\n",
        "\n",
        "MAX_Age = df.Age.max()\n",
        "print(f\"Maximum Vocabulary size in Age is {MAX_Age} \")"
      ],
      "metadata": {
        "colab": {
          "base_uri": "https://localhost:8080/"
        },
        "id": "zL93tLPgcDv5",
        "outputId": "73c86c62-1467-4681-a91d-6f19aa42d991"
      },
      "execution_count": 35,
      "outputs": [
        {
          "output_type": "stream",
          "name": "stdout",
          "text": [
            "Maximum Vocabulary size in Rating is 5 \n",
            "Maximum Vocabulary size in Positive_Feedback_Count is 2.0 \n",
            "Maximum Vocabulary size in Age is 0.9999999999999998 \n"
          ]
        }
      ]
    },
    {
      "cell_type": "code",
      "source": [
        "max_Title_seq=np.max(df.seq_Title.apply(lambda x: len(x)))\n",
        "print(f\"Max Title seq length: {max_Title_seq}\")"
      ],
      "metadata": {
        "colab": {
          "base_uri": "https://localhost:8080/"
        },
        "id": "PTjYSZiCc3TU",
        "outputId": "cd06460b-63ef-449a-e59b-54f9f846378f"
      },
      "execution_count": 36,
      "outputs": [
        {
          "output_type": "stream",
          "name": "stdout",
          "text": [
            "Max Title seq length: 12\n"
          ]
        }
      ]
    },
    {
      "cell_type": "code",
      "source": [
        "max_Review_Text_seq=np.max(df.seq_Review_Text.apply(lambda x: len(x)))\n",
        "print(f\"Max Review Text seq length: {max_Review_Text_seq}\")"
      ],
      "metadata": {
        "colab": {
          "base_uri": "https://localhost:8080/"
        },
        "id": "nPSWSaFndxsT",
        "outputId": "289ac979-37ee-43b2-b685-e3095a990496"
      },
      "execution_count": 37,
      "outputs": [
        {
          "output_type": "stream",
          "name": "stdout",
          "text": [
            "Max Review Text seq length: 116\n"
          ]
        }
      ]
    },
    {
      "cell_type": "markdown",
      "source": [
        "Histogram to look at distributions"
      ],
      "metadata": {
        "id": "oJWAG-csecc7"
      }
    },
    {
      "cell_type": "code",
      "source": [
        "df.seq_Review_Text.apply(lambda x: len(x)).hist()"
      ],
      "metadata": {
        "colab": {
          "base_uri": "https://localhost:8080/",
          "height": 283
        },
        "id": "izdae3RneVig",
        "outputId": "67a05ead-6eed-4176-d0ed-e2b1b2753327"
      },
      "execution_count": 38,
      "outputs": [
        {
          "output_type": "execute_result",
          "data": {
            "text/plain": [
              "<matplotlib.axes._subplots.AxesSubplot at 0x7f4fd0bbcf90>"
            ]
          },
          "metadata": {},
          "execution_count": 38
        },
        {
          "output_type": "display_data",
          "data": {
            "image/png": "[encoded data removed]",
            "text/plain": [
              "<Figure size 432x288 with 1 Axes>"
            ]
          },
          "metadata": {
            "needs_background": "light"
          }
        }
      ]
    },
    {
      "cell_type": "code",
      "source": [
        "df.seq_Title.apply(lambda x: len(x)).hist()"
      ],
      "metadata": {
        "colab": {
          "base_uri": "https://localhost:8080/",
          "height": 283
        },
        "id": "fhMTV-Ske5hD",
        "outputId": "b71f4e36-7f9d-49c3-db8d-0f7cc66afdb5"
      },
      "execution_count": 39,
      "outputs": [
        {
          "output_type": "execute_result",
          "data": {
            "text/plain": [
              "<matplotlib.axes._subplots.AxesSubplot at 0x7f4fd0a99b10>"
            ]
          },
          "metadata": {},
          "execution_count": 39
        },
        {
          "output_type": "display_data",
          "data": {
            "image/png": "[encoded data removed]",
            "text/plain": [
              "<Figure size 432x288 with 1 Axes>"
            ]
          },
          "metadata": {
            "needs_background": "light"
          }
        }
      ]
    },
    {
      "cell_type": "code",
      "source": [
        "# EMBEDDINGS MAX VALUES\n",
        "#     Based on the histograms, we select the max lengths\n",
        "\n",
        "\n",
        "MAX_REVIEW_TEXT_SEQ = 100\n",
        "MAX_TITLE_SEQ = 10"
      ],
      "metadata": {
        "id": "3xSGqsfEe9QO"
      },
      "execution_count": 40,
      "outputs": []
    },
    {
      "cell_type": "code",
      "source": [
        "num_col=[\"Age\",\"Positive_Feedback_Count\"]"
      ],
      "metadata": {
        "id": "-2mJe-7yqwfx"
      },
      "execution_count": 41,
      "outputs": []
    },
    {
      "cell_type": "code",
      "source": [
        "df.head()"
      ],
      "metadata": {
        "colab": {
          "base_uri": "https://localhost:8080/",
          "height": 510
        },
        "id": "a9CngZr-rbb_",
        "outputId": "5992006c-009b-49e7-ea5b-edf4b1af92e8"
      },
      "execution_count": 42,
      "outputs": [
        {
          "output_type": "execute_result",
          "data": {
            "text/html": [
              "\n",
              "  <div id=\"df-19edb0a5-e385-491d-8b10-b687e2e1ab49\">\n",
              "    <div class=\"colab-df-container\">\n",
              "      <div>\n",
              "<style scoped>\n",
              "    .dataframe tbody tr th:only-of-type {\n",
              "        vertical-align: middle;\n",
              "    }\n",
              "\n",
              "    .dataframe tbody tr th {\n",
              "        vertical-align: top;\n",
              "    }\n",
              "\n",
              "    .dataframe thead th {\n",
              "        text-align: right;\n",
              "    }\n",
              "</style>\n",
              "<table border=\"1\" class=\"dataframe\">\n",
              "  <thead>\n",
              "    <tr style=\"text-align: right;\">\n",
              "      <th></th>\n",
              "      <th>Clothing_ID</th>\n",
              "      <th>Age</th>\n",
              "      <th>Title</th>\n",
              "      <th>Review_Text</th>\n",
              "      <th>Rating</th>\n",
              "      <th>Recommended_IND</th>\n",
              "      <th>Positive_Feedback_Count</th>\n",
              "      <th>Division_Name</th>\n",
              "      <th>Department_Name</th>\n",
              "      <th>Class_Name</th>\n",
              "      <th>seq_Review_Text</th>\n",
              "      <th>seq_Title</th>\n",
              "    </tr>\n",
              "  </thead>\n",
              "  <tbody>\n",
              "    <tr>\n",
              "      <th>0</th>\n",
              "      <td>767</td>\n",
              "      <td>-0.629630</td>\n",
              "      <td>Missing</td>\n",
              "      <td>Absolutely wonderful - silky and sexy and comf...</td>\n",
              "      <td>4</td>\n",
              "      <td>1</td>\n",
              "      <td>-1.000000</td>\n",
              "      <td>2</td>\n",
              "      <td>2</td>\n",
              "      <td>5</td>\n",
              "      <td>[254, 533, 918, 3, 663, 3, 68]</td>\n",
              "      <td>[48]</td>\n",
              "    </tr>\n",
              "    <tr>\n",
              "      <th>1</th>\n",
              "      <td>1080</td>\n",
              "      <td>-0.604938</td>\n",
              "      <td>Missing</td>\n",
              "      <td>Love this dress!  it's sooo pretty.  i happene...</td>\n",
              "      <td>5</td>\n",
              "      <td>1</td>\n",
              "      <td>-0.934426</td>\n",
              "      <td>0</td>\n",
              "      <td>1</td>\n",
              "      <td>3</td>\n",
              "      <td>[21, 7, 18, 33, 1713, 99, 2, 1323, 8, 221, 5, ...</td>\n",
              "      <td>[48]</td>\n",
              "    </tr>\n",
              "    <tr>\n",
              "      <th>2</th>\n",
              "      <td>1077</td>\n",
              "      <td>0.037037</td>\n",
              "      <td>Some major design flaws</td>\n",
              "      <td>I had such high hopes for this dress and reall...</td>\n",
              "      <td>3</td>\n",
              "      <td>0</td>\n",
              "      <td>-1.000000</td>\n",
              "      <td>0</td>\n",
              "      <td>1</td>\n",
              "      <td>3</td>\n",
              "      <td>[2, 65, 313, 178, 1096, 12, 7, 18, 3, 51, 195,...</td>\n",
              "      <td>[158, 1835, 135, 1101]</td>\n",
              "    </tr>\n",
              "    <tr>\n",
              "      <th>3</th>\n",
              "      <td>1049</td>\n",
              "      <td>-0.209877</td>\n",
              "      <td>My favorite buy!</td>\n",
              "      <td>I love, love, love this jumpsuit. it's fun, fl...</td>\n",
              "      <td>5</td>\n",
              "      <td>1</td>\n",
              "      <td>-1.000000</td>\n",
              "      <td>1</td>\n",
              "      <td>0</td>\n",
              "      <td>14</td>\n",
              "      <td>[2, 21, 21, 21, 7, 631, 33, 284, 1303, 3, 789,...</td>\n",
              "      <td>[18, 293, 221]</td>\n",
              "    </tr>\n",
              "    <tr>\n",
              "      <th>4</th>\n",
              "      <td>847</td>\n",
              "      <td>-0.283951</td>\n",
              "      <td>Flattering shirt</td>\n",
              "      <td>This shirt is very flattering to all due to th...</td>\n",
              "      <td>5</td>\n",
              "      <td>1</td>\n",
              "      <td>-0.901639</td>\n",
              "      <td>0</td>\n",
              "      <td>5</td>\n",
              "      <td>0</td>\n",
              "      <td>[7, 80, 6, 23, 58, 8, 75, 487, 8, 1, 1158, 156...</td>\n",
              "      <td>[56, 72]</td>\n",
              "    </tr>\n",
              "  </tbody>\n",
              "</table>\n",
              "</div>\n",
              "      <button class=\"colab-df-convert\" onclick=\"convertToInteractive('df-19edb0a5-e385-491d-8b10-b687e2e1ab49')\"\n",
              "              title=\"Convert this dataframe to an interactive table.\"\n",
              "              style=\"display:none;\">\n",
              "        \n",
              "  <svg xmlns=\"http://www.w3.org/2000/svg\" height=\"24px\"viewBox=\"0 0 24 24\"\n",
              "       width=\"24px\">\n",
              "    <path d=\"M0 0h24v24H0V0z\" fill=\"none\"/>\n",
              "    <path d=\"M18.56 5.44l.94 2.06.94-2.06 2.06-.94-2.06-.94-.94-2.06-.94 2.06-2.06.94zm-11 1L8.5 8.5l.94-2.06 2.06-.94-2.06-.94L8.5 2.5l-.94 2.06-2.06.94zm10 10l.94 2.06.94-2.06 2.06-.94-2.06-.94-.94-2.06-.94 2.06-2.06.94z\"/><path d=\"M17.41 7.96l-1.37-1.37c-.4-.4-.92-.59-1.43-.59-.52 0-1.04.2-1.43.59L10.3 9.45l-7.72 7.72c-.78.78-.78 2.05 0 2.83L4 21.41c.39.39.9.59 1.41.59.51 0 1.02-.2 1.41-.59l7.78-7.78 2.81-2.81c.8-.78.8-2.07 0-2.86zM5.41 20L4 18.59l7.72-7.72 1.47 1.35L5.41 20z\"/>\n",
              "  </svg>\n",
              "      </button>\n",
              "      \n",
              "  <style>\n",
              "    .colab-df-container {\n",
              "      display:flex;\n",
              "      flex-wrap:wrap;\n",
              "      gap: 12px;\n",
              "    }\n",
              "\n",
              "    .colab-df-convert {\n",
              "      background-color: #E8F0FE;\n",
              "      border: none;\n",
              "      border-radius: 50%;\n",
              "      cursor: pointer;\n",
              "      display: none;\n",
              "      fill: #1967D2;\n",
              "      height: 32px;\n",
              "      padding: 0 0 0 0;\n",
              "      width: 32px;\n",
              "    }\n",
              "\n",
              "    .colab-df-convert:hover {\n",
              "      background-color: #E2EBFA;\n",
              "      box-shadow: 0px 1px 2px rgba(60, 64, 67, 0.3), 0px 1px 3px 1px rgba(60, 64, 67, 0.15);\n",
              "      fill: #174EA6;\n",
              "    }\n",
              "\n",
              "    [theme=dark] .colab-df-convert {\n",
              "      background-color: #3B4455;\n",
              "      fill: #D2E3FC;\n",
              "    }\n",
              "\n",
              "    [theme=dark] .colab-df-convert:hover {\n",
              "      background-color: #434B5C;\n",
              "      box-shadow: 0px 1px 3px 1px rgba(0, 0, 0, 0.15);\n",
              "      filter: drop-shadow(0px 1px 2px rgba(0, 0, 0, 0.3));\n",
              "      fill: #FFFFFF;\n",
              "    }\n",
              "  </style>\n",
              "\n",
              "      <script>\n",
              "        const buttonEl =\n",
              "          document.querySelector('#df-19edb0a5-e385-491d-8b10-b687e2e1ab49 button.colab-df-convert');\n",
              "        buttonEl.style.display =\n",
              "          google.colab.kernel.accessAllowed ? 'block' : 'none';\n",
              "\n",
              "        async function convertToInteractive(key) {\n",
              "          const element = document.querySelector('#df-19edb0a5-e385-491d-8b10-b687e2e1ab49');\n",
              "          const dataTable =\n",
              "            await google.colab.kernel.invokeFunction('convertToInteractive',\n",
              "                                                     [key], {});\n",
              "          if (!dataTable) return;\n",
              "\n",
              "          const docLinkHtml = 'Like what you see? Visit the ' +\n",
              "            '<a target=\"_blank\" href=https://colab.research.google.com/notebooks/data_table.ipynb>data table notebook</a>'\n",
              "            + ' to learn more about interactive tables.';\n",
              "          element.innerHTML = '';\n",
              "          dataTable['output_type'] = 'display_data';\n",
              "          await google.colab.output.renderOutput(dataTable, element);\n",
              "          const docLink = document.createElement('div');\n",
              "          docLink.innerHTML = docLinkHtml;\n",
              "          element.appendChild(docLink);\n",
              "        }\n",
              "      </script>\n",
              "    </div>\n",
              "  </div>\n",
              "  "
            ],
            "text/plain": [
              "   Clothing_ID  ...               seq_Title\n",
              "0          767  ...                    [48]\n",
              "1         1080  ...                    [48]\n",
              "2         1077  ...  [158, 1835, 135, 1101]\n",
              "3         1049  ...          [18, 293, 221]\n",
              "4          847  ...                [56, 72]\n",
              "\n",
              "[5 rows x 12 columns]"
            ]
          },
          "metadata": {},
          "execution_count": 42
        }
      ]
    },
    {
      "cell_type": "code",
      "source": [
        "#df.drop(['Clothing_ID'], axis = 1)"
      ],
      "metadata": {
        "id": "9Q7fsHVtrfsb"
      },
      "execution_count": 43,
      "outputs": []
    },
    {
      "cell_type": "markdown",
      "source": [
        "#Data Split"
      ],
      "metadata": {
        "id": "CJHr02aEtJDX"
      }
    },
    {
      "cell_type": "code",
      "source": [
        "X= df.drop('Recommended_IND',axis=1)\n",
        "y= df.pop('Recommended_IND')"
      ],
      "metadata": {
        "id": "MyirtGygsYxF"
      },
      "execution_count": 44,
      "outputs": []
    },
    {
      "cell_type": "code",
      "source": [
        "X_C=X.copy()"
      ],
      "metadata": {
        "id": "5nUCaB3fuN4u"
      },
      "execution_count": 45,
      "outputs": []
    },
    {
      "cell_type": "code",
      "source": [
        "y_C=y.copy()"
      ],
      "metadata": {
        "id": "vi6i7gWGuSM4"
      },
      "execution_count": 46,
      "outputs": []
    },
    {
      "cell_type": "code",
      "source": [
        " X_train, X_test, y_train, y_test = train_test_split(X, y, test_size=0.2, random_state=1)\n",
        "\n",
        " X_train, X_val, y_train, y_val = train_test_split(X_train, y_train, test_size=0.25, random_state=1)"
      ],
      "metadata": {
        "id": "Sc0a4PY7ojXW"
      },
      "execution_count": 47,
      "outputs": []
    },
    {
      "cell_type": "code",
      "source": [
        "X_train.shape   \n",
        "X_test.shape  \n",
        "X_val.shape"
      ],
      "metadata": {
        "colab": {
          "base_uri": "https://localhost:8080/"
        },
        "id": "XhGCJzoSpAqB",
        "outputId": "707fe07e-f136-4f12-8d32-1ea0eea1db55"
      },
      "execution_count": 48,
      "outputs": [
        {
          "output_type": "execute_result",
          "data": {
            "text/plain": [
              "(14091, 11)"
            ]
          },
          "metadata": {},
          "execution_count": 48
        },
        {
          "output_type": "execute_result",
          "data": {
            "text/plain": [
              "(4698, 11)"
            ]
          },
          "metadata": {},
          "execution_count": 48
        },
        {
          "output_type": "execute_result",
          "data": {
            "text/plain": [
              "(4697, 11)"
            ]
          },
          "metadata": {},
          "execution_count": 48
        }
      ]
    },
    {
      "cell_type": "code",
      "source": [
        "#Define callback function for earlystopping and storing weights\n",
        "# Place where checkpoint data will be stored\n",
        "checkptfilepath = \"/content/model\"\n",
        "\n",
        "# Delete if it exists\n",
        "! rm -r -f /content/model\n",
        "\n",
        "# Define callbacks now: \n",
        "callbacks = [\n",
        "    EarlyStopping(\n",
        "        # Stop training when `val_loss` is no longer improving\n",
        "        monitor=\"val_loss\",\n",
        "        # \"no longer improving\" being defined as \"no better than 1e-2 less\"\n",
        "        min_delta=1e-2,\n",
        "        # \"no longer improving\" being further defined as \"for at least 2 epochs\"\n",
        "        patience=2,\n",
        "        verbose=1,\n",
        "    ),\n",
        "\n",
        "    ModelCheckpoint( filepath=checkptfilepath, save_best_only=True) #save best which gives minimum validation loss\n",
        "]"
      ],
      "metadata": {
        "id": "IYSDnyjOObxy"
      },
      "execution_count": 49,
      "outputs": []
    },
    {
      "cell_type": "code",
      "source": [
        "X_train.info()"
      ],
      "metadata": {
        "colab": {
          "base_uri": "https://localhost:8080/"
        },
        "id": "Bw8BcrK0ESyb",
        "outputId": "f6878320-be9a-4fd3-c7c8-e43d1e858343"
      },
      "execution_count": 50,
      "outputs": [
        {
          "output_type": "stream",
          "name": "stdout",
          "text": [
            "<class 'pandas.core.frame.DataFrame'>\n",
            "Int64Index: 14091 entries, 10786 to 5542\n",
            "Data columns (total 11 columns):\n",
            " #   Column                   Non-Null Count  Dtype  \n",
            "---  ------                   --------------  -----  \n",
            " 0   Clothing_ID              14091 non-null  int64  \n",
            " 1   Age                      14091 non-null  float64\n",
            " 2   Title                    14091 non-null  object \n",
            " 3   Review_Text              14091 non-null  object \n",
            " 4   Rating                   14091 non-null  int64  \n",
            " 5   Positive_Feedback_Count  14091 non-null  float64\n",
            " 6   Division_Name            14091 non-null  int64  \n",
            " 7   Department_Name          14091 non-null  int64  \n",
            " 8   Class_Name               14091 non-null  int64  \n",
            " 9   seq_Review_Text          14091 non-null  object \n",
            " 10  seq_Title                14091 non-null  object \n",
            "dtypes: float64(2), int64(5), object(4)\n",
            "memory usage: 1.3+ MB\n"
          ]
        }
      ]
    },
    {
      "cell_type": "markdown",
      "source": [
        "#Define a function to create a dictionary of data"
      ],
      "metadata": {
        "id": "DoY-MbWmxDr2"
      }
    },
    {
      "cell_type": "code",
      "source": [
        "def get_keras_data(dataset):\n",
        "    X = {   \n",
        "        'Review_text_in':           pad_sequences(dataset.seq_Review_Text, maxlen=MAX_REVIEW_TEXT_SEQ),                        # 1\n",
        "        'Title_in':                 pad_sequences(dataset.seq_Title, maxlen=MAX_TITLE_SEQ),       # 2\n",
        "        'Class_Name_in':            dataset.Class_Name.values,                                                # 3\n",
        "        'Department_Name_in':       dataset.Department_Name.values,                                                # 4\n",
        "        'Division_Name_in':         dataset.Division_Name.values,      #5\n",
        "        'num_vars_in':              np.array(dataset[[\"Age\", \"Rating\",\"Positive_Feedback_Count\"]])    # Two numeric columns here   # 6\n",
        "    }\n",
        "    return X\n"
      ],
      "metadata": {
        "id": "rEDGTVLnuc4-"
      },
      "execution_count": 51,
      "outputs": []
    },
    {
      "cell_type": "code",
      "source": [
        "# Get these datasets now:\n",
        "X_train = get_keras_data(X_train)  # type: dict"
      ],
      "metadata": {
        "id": "jwqwh2aomL6R"
      },
      "execution_count": 52,
      "outputs": []
    },
    {
      "cell_type": "code",
      "source": [
        "X_train.keys()"
      ],
      "metadata": {
        "colab": {
          "base_uri": "https://localhost:8080/"
        },
        "id": "coRwUsagmWTC",
        "outputId": "a2a3df1f-6311-4e9f-e0f1-54bb57ec122a"
      },
      "execution_count": 53,
      "outputs": [
        {
          "output_type": "execute_result",
          "data": {
            "text/plain": [
              "dict_keys(['Review_text_in', 'Title_in', 'Class_Name_in', 'Department_Name_in', 'Division_Name_in', 'num_vars_in'])"
            ]
          },
          "metadata": {},
          "execution_count": 53
        }
      ]
    },
    {
      "cell_type": "code",
      "source": [
        "# Similarly get subsets for X_val and X_test:\n",
        "\n",
        "X_val = get_keras_data(X_val)\n",
        "X_test = get_keras_data(X_test)"
      ],
      "metadata": {
        "id": "0dFxNvtbmYoa"
      },
      "execution_count": 54,
      "outputs": []
    },
    {
      "cell_type": "markdown",
      "source": [
        "#About embedding of categorical values in vector-space"
      ],
      "metadata": {
        "id": "52cBhfCTpqLB"
      }
    },
    {
      "cell_type": "code",
      "source": [
        "# Define sizes of categorical values AND word to vectors Sizes\n",
        "\n",
        "word2vec_size = 60   # For text columns\n",
        "cat2vec_size = 10    # For Department, Division and Class name\n",
        "cond2vec_size = 5    "
      ],
      "metadata": {
        "id": "C1SESjcBpj0w"
      },
      "execution_count": 55,
      "outputs": []
    },
    {
      "cell_type": "markdown",
      "source": [
        "Input layers definititon"
      ],
      "metadata": {
        "id": "eawZercBuani"
      }
    },
    {
      "cell_type": "code",
      "source": [
        "# SIX Inputs. At each input specify number of input-features:\n",
        "\n",
        "review_text =            Input(shape=[X_train[\"Review_text_in\"].shape[1]],     name=\"Review_text_in\")           # Length of each sequence . this variable with .shape[1] is the padding length\n",
        "title =       Input(shape=[X_train[\"Title_in\"].shape[1]], name=\"Title_in\")      # Length of each sequence\n",
        "class_name =      Input(shape=[1],                             name=\"Class_Name_in\")     # Just 1 feature. Hence shape=[1]\n",
        "department_name =   Input(shape=[1],                             name=\"Department_Name_in\")  # Just 1 feature. Hence shape=[1]\n",
        "division_name =  Input(shape=[1],                             name=\"Division_Name_in\") # Just 1 feature. Hence shape = [1]\n",
        "#num_vars =        Input(shape=[X_train[\"num_vars_in\"].shape[1]],  name=\"num_vars_in\")\n",
        "num_vars =        Input(shape=[X_train[\"num_vars_in\"].shape[1],1],  name=\"num_vars_in\")"
      ],
      "metadata": {
        "id": "VjmVwh5ZuZDD"
      },
      "execution_count": 56,
      "outputs": []
    },
    {
      "cell_type": "code",
      "source": [
        "# FIVE Embeddings layers.  Embedding vectors of first FIVE of the above\n",
        "\n",
        "emb_review_text =           Embedding(MAX_REVIEW_TEXT,      word2vec_size  )(review_text)               \n",
        "emb_title =      Embedding(MAX_TITLE,      word2vec_size  )(title)\n",
        "\n",
        "# Output of following three go directly into Dense layer after flattening\n",
        "#        These need to be flattened as for every timestep there is a vector\n",
        "emb_class_name =     Embedding(MAX_Class_Name,     cat2vec_size  )(class_name)\n",
        "emb_department_name =  Embedding(MAX_Department_Name,  cat2vec_size  )(department_name)\n",
        "emb_division_name = Embedding(MAX_Division_Name, cat2vec_size )(division_name)"
      ],
      "metadata": {
        "id": "R0xIWRB2vIVj"
      },
      "execution_count": 58,
      "outputs": []
    },
    {
      "cell_type": "code",
      "source": [
        "from keras.layers import LSTM\n",
        "review_text_lstm= LSTM(64)(emb_review_text)\n",
        "title_lstm= LSTM(64)(emb_title)\n",
        "class_name_lstm= LSTM(64)(emb_class_name)\n",
        "department_name_lstm= LSTM(64)(emb_department_name)\n",
        "division_name_lstm= LSTM(64)(emb_division_name)"
      ],
      "metadata": {
        "id": "7h-EzUPKIiHZ"
      },
      "execution_count": 59,
      "outputs": []
    },
    {
      "cell_type": "code",
      "source": [
        "#inp = tf.keras.Input(shape = (X_train[\"num_vars_in\"].shape[1],1))"
      ],
      "metadata": {
        "id": "OGwS1rJsMZGn"
      },
      "execution_count": null,
      "outputs": []
    },
    {
      "cell_type": "code",
      "source": [
        "#  Before we concatenate, let us see shape of each output tensor:\n",
        "\n",
        "print(f\"emb_class_name: {emb_class_name.shape}\")           \n",
        "print(f\"emb_department_name: {emb_department_name.shape}\")      \n",
        "print(f\"emb_division_name: {emb_division_name.shape}\")    \n",
        "                "
      ],
      "metadata": {
        "colab": {
          "base_uri": "https://localhost:8080/"
        },
        "id": "AV84Lxyuy6o4",
        "outputId": "de01fcbe-0423-4a33-c650-4c7a6745e723"
      },
      "execution_count": 61,
      "outputs": [
        {
          "output_type": "stream",
          "name": "stdout",
          "text": [
            "emb_class_name: (None, 1, 10)\n",
            "emb_department_name: (None, 1, 10)\n",
            "emb_division_name: (None, 1, 10)\n"
          ]
        }
      ]
    },
    {
      "cell_type": "code",
      "source": [
        "# Concatenate all layer-branches:\n",
        "\n",
        "main_l = concatenate(\n",
        "                        [\n",
        "                         Flatten() (review_text_lstm),\n",
        "                         Flatten() (title_lstm),\n",
        "                         Flatten() (class_name_lstm),\n",
        "                         Flatten() (department_name_lstm),\n",
        "                         Flatten() (division_name_lstm),\n",
        "                         Flatten() (num_vars)          # Feed numerical variables as they are\n",
        "                        ]\n",
        "                      )"
      ],
      "metadata": {
        "id": "HKKDii3qzybT"
      },
      "execution_count": 68,
      "outputs": []
    },
    {
      "cell_type": "code",
      "source": [
        "dr_r = 0.1   \n",
        "\n",
        "# Add classification layer\n",
        "main_l = Dense(128) (main_l)\n",
        "main_l = Dropout(dr_r)(main_l)\n",
        "main_l = Dense(64) (main_l)\n",
        "main_l = Dropout(dr_r) (main_l)"
      ],
      "metadata": {
        "id": "AzJzEZIv0FJE"
      },
      "execution_count": 69,
      "outputs": []
    },
    {
      "cell_type": "code",
      "source": [
        "# Output neuron\n",
        "output = Dense(1, activation=\"sigmoid\") (main_l)"
      ],
      "metadata": {
        "id": "gXdcMXDd0QNP"
      },
      "execution_count": 70,
      "outputs": []
    },
    {
      "cell_type": "code",
      "source": [
        "# Create model now\n",
        "model = Model(inputs = [review_text,title,class_name,department_name,division_name,num_vars], outputs = [output])"
      ],
      "metadata": {
        "id": "DTRjCEVK0VoV"
      },
      "execution_count": 71,
      "outputs": []
    },
    {
      "cell_type": "code",
      "source": [
        "model.summary()"
      ],
      "metadata": {
        "colab": {
          "base_uri": "https://localhost:8080/"
        },
        "id": "GKYwFEPO1dOO",
        "outputId": "3ae33cb5-4562-48db-c900-eb0845345255"
      },
      "execution_count": 72,
      "outputs": [
        {
          "output_type": "stream",
          "name": "stdout",
          "text": [
            "Model: \"model_1\"\n",
            "__________________________________________________________________________________________________\n",
            " Layer (type)                   Output Shape         Param #     Connected to                     \n",
            "==================================================================================================\n",
            " Review_text_in (InputLayer)    [(None, 100)]        0           []                               \n",
            "                                                                                                  \n",
            " Title_in (InputLayer)          [(None, 10)]         0           []                               \n",
            "                                                                                                  \n",
            " Class_Name_in (InputLayer)     [(None, 1)]          0           []                               \n",
            "                                                                                                  \n",
            " Department_Name_in (InputLayer  [(None, 1)]         0           []                               \n",
            " )                                                                                                \n",
            "                                                                                                  \n",
            " Division_Name_in (InputLayer)  [(None, 1)]          0           []                               \n",
            "                                                                                                  \n",
            " embedding (Embedding)          (None, 100, 60)      890880      ['Review_text_in[0][0]']         \n",
            "                                                                                                  \n",
            " embedding_1 (Embedding)        (None, 10, 60)       923700      ['Title_in[0][0]']               \n",
            "                                                                                                  \n",
            " embedding_2 (Embedding)        (None, 1, 10)        210         ['Class_Name_in[0][0]']          \n",
            "                                                                                                  \n",
            " embedding_3 (Embedding)        (None, 1, 10)        70          ['Department_Name_in[0][0]']     \n",
            "                                                                                                  \n",
            " embedding_4 (Embedding)        (None, 1, 10)        40          ['Division_Name_in[0][0]']       \n",
            "                                                                                                  \n",
            " lstm (LSTM)                    (None, 64)           32000       ['embedding[0][0]']              \n",
            "                                                                                                  \n",
            " lstm_1 (LSTM)                  (None, 64)           32000       ['embedding_1[0][0]']            \n",
            "                                                                                                  \n",
            " lstm_2 (LSTM)                  (None, 64)           19200       ['embedding_2[0][0]']            \n",
            "                                                                                                  \n",
            " lstm_3 (LSTM)                  (None, 64)           19200       ['embedding_3[0][0]']            \n",
            "                                                                                                  \n",
            " lstm_4 (LSTM)                  (None, 64)           19200       ['embedding_4[0][0]']            \n",
            "                                                                                                  \n",
            " num_vars_in (InputLayer)       [(None, 3, 1)]       0           []                               \n",
            "                                                                                                  \n",
            " flatten_6 (Flatten)            (None, 64)           0           ['lstm[0][0]']                   \n",
            "                                                                                                  \n",
            " flatten_7 (Flatten)            (None, 64)           0           ['lstm_1[0][0]']                 \n",
            "                                                                                                  \n",
            " flatten_8 (Flatten)            (None, 64)           0           ['lstm_2[0][0]']                 \n",
            "                                                                                                  \n",
            " flatten_9 (Flatten)            (None, 64)           0           ['lstm_3[0][0]']                 \n",
            "                                                                                                  \n",
            " flatten_10 (Flatten)           (None, 64)           0           ['lstm_4[0][0]']                 \n",
            "                                                                                                  \n",
            " flatten_11 (Flatten)           (None, 3)            0           ['num_vars_in[0][0]']            \n",
            "                                                                                                  \n",
            " concatenate_1 (Concatenate)    (None, 323)          0           ['flatten_6[0][0]',              \n",
            "                                                                  'flatten_7[0][0]',              \n",
            "                                                                  'flatten_8[0][0]',              \n",
            "                                                                  'flatten_9[0][0]',              \n",
            "                                                                  'flatten_10[0][0]',             \n",
            "                                                                  'flatten_11[0][0]']             \n",
            "                                                                                                  \n",
            " dense_3 (Dense)                (None, 128)          41472       ['concatenate_1[0][0]']          \n",
            "                                                                                                  \n",
            " dropout_2 (Dropout)            (None, 128)          0           ['dense_3[0][0]']                \n",
            "                                                                                                  \n",
            " dense_4 (Dense)                (None, 64)           8256        ['dropout_2[0][0]']              \n",
            "                                                                                                  \n",
            " dropout_3 (Dropout)            (None, 64)           0           ['dense_4[0][0]']                \n",
            "                                                                                                  \n",
            " dense_5 (Dense)                (None, 1)            65          ['dropout_3[0][0]']              \n",
            "                                                                                                  \n",
            "==================================================================================================\n",
            "Total params: 1,986,293\n",
            "Trainable params: 1,986,293\n",
            "Non-trainable params: 0\n",
            "__________________________________________________________________________________________________\n"
          ]
        }
      ]
    },
    {
      "cell_type": "code",
      "source": [
        "plot_model(model, show_shapes= True)"
      ],
      "metadata": {
        "colab": {
          "base_uri": "https://localhost:8080/",
          "height": 557
        },
        "id": "T8uJd-x91p3J",
        "outputId": "11200fa8-68c7-4bb9-e354-90855b80b6ce"
      },
      "execution_count": 73,
      "outputs": [
        {
          "output_type": "execute_result",
          "data": {
            "image/png": "[encoded data removed]",
            "text/plain": [
              "<IPython.core.display.Image object>"
            ]
          },
          "metadata": {},
          "execution_count": 73
        }
      ]
    },
    {
      "cell_type": "code",
      "source": [
        "def get_callbacks(patience=2):\n",
        "    es = EarlyStopping('val_loss', patience=patience, mode=\"min\")\n",
        "    msave = ModelCheckpoint(filepath='model.{epoch:02d}-{val_loss:.2f}.h5', save_best_only=True)\n",
        "    return [es, msave]"
      ],
      "metadata": {
        "id": "IW_0v2Z_gcpW"
      },
      "execution_count": 74,
      "outputs": []
    },
    {
      "cell_type": "code",
      "source": [
        "BATCH_SIZE = 200\n",
        "epochs = 10\n",
        "\n",
        "model.compile(loss = \"mean_squared_error\", optimizer='adam', metrics=['accuracy'])  \n",
        "start = time.time()\n",
        "history = model.fit(\n",
        "                    X_train,\n",
        "                    y_train,\n",
        "                    epochs = epochs,\n",
        "                    batch_size=BATCH_SIZE,\n",
        "                    validation_data=(X_val, y_val),\n",
        "                    verbose = 1,\n",
        "                    callbacks= get_callbacks()\n",
        "                    )\n",
        "end = time.time()\n",
        "print((end-start)/60)   "
      ],
      "metadata": {
        "colab": {
          "base_uri": "https://localhost:8080/"
        },
        "id": "G9N6hal311ve",
        "outputId": "6f4e3f5f-1edd-4bea-cd50-de35d3404664"
      },
      "execution_count": 83,
      "outputs": [
        {
          "output_type": "stream",
          "name": "stdout",
          "text": [
            "Epoch 1/10\n",
            "71/71 [==============================] - 28s 279ms/step - loss: 0.0045 - accuracy: 0.9953 - val_loss: 0.0623 - val_accuracy: 0.9291\n",
            "Epoch 2/10\n",
            "71/71 [==============================] - 14s 204ms/step - loss: 0.0037 - accuracy: 0.9962 - val_loss: 0.0641 - val_accuracy: 0.9293\n",
            "Epoch 3/10\n",
            "71/71 [==============================] - 15s 205ms/step - loss: 0.0039 - accuracy: 0.9957 - val_loss: 0.0638 - val_accuracy: 0.9263\n",
            "0.94432346423467\n"
          ]
        }
      ]
    },
    {
      "cell_type": "code",
      "source": [
        "model.evaluate(X_test,y_test)  "
      ],
      "metadata": {
        "colab": {
          "base_uri": "https://localhost:8080/"
        },
        "id": "dpsfQp5M2YZ4",
        "outputId": "29cb9b67-2672-42ce-87b6-23ff5bb80396"
      },
      "execution_count": 84,
      "outputs": [
        {
          "output_type": "stream",
          "name": "stdout",
          "text": [
            "147/147 [==============================] - 2s 14ms/step - loss: 0.0682 - accuracy: 0.9246\n"
          ]
        },
        {
          "output_type": "execute_result",
          "data": {
            "text/plain": [
              "[0.06818871200084686, 0.9246487617492676]"
            ]
          },
          "metadata": {},
          "execution_count": 84
        }
      ]
    },
    {
      "cell_type": "code",
      "source": [
        "preds = model.predict(X_test, batch_size=BATCH_SIZE)\n",
        "\n",
        "print(preds[:10])"
      ],
      "metadata": {
        "id": "3gg0IJHh3OXe",
        "colab": {
          "base_uri": "https://localhost:8080/"
        },
        "outputId": "ef593e11-445b-403f-8e11-5de8bcfc7623"
      },
      "execution_count": 85,
      "outputs": [
        {
          "output_type": "stream",
          "name": "stdout",
          "text": [
            "[[1.        ]\n",
            " [1.        ]\n",
            " [1.        ]\n",
            " [1.        ]\n",
            " [0.94285494]\n",
            " [1.        ]\n",
            " [1.        ]\n",
            " [1.        ]\n",
            " [1.        ]\n",
            " [1.        ]]\n"
          ]
        }
      ]
    },
    {
      "cell_type": "code",
      "source": [
        "print('Outputs shape')    \n",
        "print(preds.shape) # prints (n,1) but  need (n,)\n",
        "preds=np.transpose(preds)[0]  # transformation to get (n,)\n",
        "print(preds.shape)  # now the shape is (n,)\n",
        "# Applying transformation to get binary values predictions with 0.5 as thresold"
      ],
      "metadata": {
        "colab": {
          "base_uri": "https://localhost:8080/"
        },
        "id": "DrBd-NeSj5Qp",
        "outputId": "f4403f1e-b86a-4029-c1ce-54faf3d53490"
      },
      "execution_count": 86,
      "outputs": [
        {
          "output_type": "stream",
          "name": "stdout",
          "text": [
            "Outputs shape\n",
            "(4698, 1)\n",
            "(4698,)\n"
          ]
        }
      ]
    },
    {
      "cell_type": "code",
      "source": [
        "preds = list(map(lambda x: 0 if x<0.5 else 1, preds))"
      ],
      "metadata": {
        "id": "M3LYyiJCkOYO"
      },
      "execution_count": 87,
      "outputs": []
    },
    {
      "cell_type": "code",
      "source": [
        "results = model.evaluate(X_test, y_test, batch_size=120)\n",
        "print(\"test loss, test acc:\", results)"
      ],
      "metadata": {
        "colab": {
          "base_uri": "https://localhost:8080/"
        },
        "id": "dYeKksrzkZU5",
        "outputId": "1acbfef2-ce12-46cb-ad4d-de7bb5e9b2c2"
      },
      "execution_count": 91,
      "outputs": [
        {
          "output_type": "stream",
          "name": "stdout",
          "text": [
            "40/40 [==============================] - 2s 43ms/step - loss: 0.0682 - accuracy: 0.9246\n",
            "test loss, test acc: [0.06818871200084686, 0.9246487617492676]\n"
          ]
        }
      ]
    },
    {
      "cell_type": "code",
      "source": [
        ""
      ],
      "metadata": {
        "id": "4dHsbNlokzye"
      },
      "execution_count": null,
      "outputs": []
    }
  ]
}